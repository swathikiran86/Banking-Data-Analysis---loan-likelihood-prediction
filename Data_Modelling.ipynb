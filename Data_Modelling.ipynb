{
 "cells": [
  {
   "cell_type": "markdown",
   "metadata": {},
   "source": [
    "<h1>Manipulating the data for model building (Classifer)</h1>"
   ]
  },
  {
   "cell_type": "code",
   "execution_count": 1,
   "metadata": {},
   "outputs": [],
   "source": [
    "import pandas as pd\n",
    "import numpy as np\n",
    "import matplotlib.pyplot as plt \n",
    "from pylab import rcParams\n",
    "from io import StringIO\n",
    "import re\n",
    "from sklearn import preprocessing\n",
    "from sklearn.linear_model import LogisticRegression\n",
    "from sklearn.model_selection import train_test_split"
   ]
  },
  {
   "cell_type": "code",
   "execution_count": 2,
   "metadata": {},
   "outputs": [],
   "source": [
    "#Reading the cleaned and merged dataset\n",
    "df= pd.read_csv(\"mergedData.csv\")"
   ]
  },
  {
   "cell_type": "code",
   "execution_count": 3,
   "metadata": {},
   "outputs": [
    {
     "data": {
      "text/html": [
       "<div>\n",
       "<style scoped>\n",
       "    .dataframe tbody tr th:only-of-type {\n",
       "        vertical-align: middle;\n",
       "    }\n",
       "\n",
       "    .dataframe tbody tr th {\n",
       "        vertical-align: top;\n",
       "    }\n",
       "\n",
       "    .dataframe thead th {\n",
       "        text-align: right;\n",
       "    }\n",
       "</style>\n",
       "<table border=\"1\" class=\"dataframe\">\n",
       "  <thead>\n",
       "    <tr style=\"text-align: right;\">\n",
       "      <th></th>\n",
       "      <th>Client ID</th>\n",
       "      <th>Age</th>\n",
       "      <th>Gender</th>\n",
       "      <th>County</th>\n",
       "      <th>Income Group</th>\n",
       "      <th>Average_CA_transaction_amount</th>\n",
       "      <th>No_of_products_held</th>\n",
       "      <th>Held Loan previously</th>\n",
       "      <th>Num Transactions</th>\n",
       "      <th>Last TXN Amount</th>\n",
       "      <th>Merchant Code</th>\n",
       "      <th>Last Transaction Narrative</th>\n",
       "      <th>Loan Flag</th>\n",
       "    </tr>\n",
       "  </thead>\n",
       "  <tbody>\n",
       "    <tr>\n",
       "      <th>0</th>\n",
       "      <td>1</td>\n",
       "      <td>36</td>\n",
       "      <td>1</td>\n",
       "      <td>cork</td>\n",
       "      <td>10001-40000</td>\n",
       "      <td>58</td>\n",
       "      <td>4</td>\n",
       "      <td>1</td>\n",
       "      <td>0.0</td>\n",
       "      <td>NaN</td>\n",
       "      <td>NaN</td>\n",
       "      <td>NaN</td>\n",
       "      <td>0</td>\n",
       "    </tr>\n",
       "    <tr>\n",
       "      <th>1</th>\n",
       "      <td>2</td>\n",
       "      <td>43</td>\n",
       "      <td>1</td>\n",
       "      <td>cavan</td>\n",
       "      <td>0-10000</td>\n",
       "      <td>2663</td>\n",
       "      <td>4</td>\n",
       "      <td>0</td>\n",
       "      <td>17.0</td>\n",
       "      <td>83.66</td>\n",
       "      <td>7211.0</td>\n",
       "      <td>THE BRIDGE LAUNDRY       WICKLOW TOWN</td>\n",
       "      <td>0</td>\n",
       "    </tr>\n",
       "    <tr>\n",
       "      <th>2</th>\n",
       "      <td>3</td>\n",
       "      <td>32</td>\n",
       "      <td>0</td>\n",
       "      <td>dublin</td>\n",
       "      <td>10001-40000</td>\n",
       "      <td>46</td>\n",
       "      <td>2</td>\n",
       "      <td>0</td>\n",
       "      <td>25.0</td>\n",
       "      <td>526.18</td>\n",
       "      <td>3667.0</td>\n",
       "      <td>LUXOR HOTEL/CASINO       LAS VEGAS    NV</td>\n",
       "      <td>0</td>\n",
       "    </tr>\n",
       "    <tr>\n",
       "      <th>3</th>\n",
       "      <td>4</td>\n",
       "      <td>52</td>\n",
       "      <td>1</td>\n",
       "      <td>louth</td>\n",
       "      <td>40001-60000</td>\n",
       "      <td>0</td>\n",
       "      <td>2</td>\n",
       "      <td>1</td>\n",
       "      <td>13.0</td>\n",
       "      <td>70.68</td>\n",
       "      <td>5712.0</td>\n",
       "      <td>HARVEY NORMAN            CARRICKMINES</td>\n",
       "      <td>0</td>\n",
       "    </tr>\n",
       "    <tr>\n",
       "      <th>4</th>\n",
       "      <td>5</td>\n",
       "      <td>63</td>\n",
       "      <td>0</td>\n",
       "      <td>kilkenny</td>\n",
       "      <td>60001-100000</td>\n",
       "      <td>126</td>\n",
       "      <td>1</td>\n",
       "      <td>0</td>\n",
       "      <td>39.0</td>\n",
       "      <td>259.07</td>\n",
       "      <td>5999.0</td>\n",
       "      <td>PAYPAL *PETEWOODWAR      35314369001</td>\n",
       "      <td>0</td>\n",
       "    </tr>\n",
       "  </tbody>\n",
       "</table>\n",
       "</div>"
      ],
      "text/plain": [
       "   Client ID  Age  Gender    County  Income Group  \\\n",
       "0          1   36       1      cork   10001-40000   \n",
       "1          2   43       1     cavan       0-10000   \n",
       "2          3   32       0    dublin   10001-40000   \n",
       "3          4   52       1     louth   40001-60000   \n",
       "4          5   63       0  kilkenny  60001-100000   \n",
       "\n",
       "   Average_CA_transaction_amount  No_of_products_held  Held Loan previously  \\\n",
       "0                             58                    4                     1   \n",
       "1                           2663                    4                     0   \n",
       "2                             46                    2                     0   \n",
       "3                              0                    2                     1   \n",
       "4                            126                    1                     0   \n",
       "\n",
       "   Num Transactions  Last TXN Amount  Merchant Code  \\\n",
       "0               0.0              NaN            NaN   \n",
       "1              17.0            83.66         7211.0   \n",
       "2              25.0           526.18         3667.0   \n",
       "3              13.0            70.68         5712.0   \n",
       "4              39.0           259.07         5999.0   \n",
       "\n",
       "                 Last Transaction Narrative  Loan Flag  \n",
       "0                                       NaN          0  \n",
       "1     THE BRIDGE LAUNDRY       WICKLOW TOWN          0  \n",
       "2  LUXOR HOTEL/CASINO       LAS VEGAS    NV          0  \n",
       "3     HARVEY NORMAN            CARRICKMINES          0  \n",
       "4      PAYPAL *PETEWOODWAR      35314369001          0  "
      ]
     },
     "execution_count": 3,
     "metadata": {},
     "output_type": "execute_result"
    }
   ],
   "source": [
    "df.head()"
   ]
  },
  {
   "cell_type": "code",
   "execution_count": 4,
   "metadata": {},
   "outputs": [
    {
     "data": {
      "text/plain": [
       "Client ID                           0\n",
       "Age                                 0\n",
       "Gender                              0\n",
       "County                             28\n",
       "Income Group                        0\n",
       "Average_CA_transaction_amount       0\n",
       "No_of_products_held                 0\n",
       "Held Loan previously                0\n",
       "Num Transactions                    0\n",
       "Last TXN Amount                  3278\n",
       "Merchant Code                    3278\n",
       "Last Transaction Narrative       3278\n",
       "Loan Flag                           0\n",
       "dtype: int64"
      ]
     },
     "execution_count": 4,
     "metadata": {},
     "output_type": "execute_result"
    }
   ],
   "source": [
    "#Checking for null vlaues\n",
    "df.isnull().sum()"
   ]
  },
  {
   "cell_type": "code",
   "execution_count": 5,
   "metadata": {},
   "outputs": [],
   "source": [
    "#Too Many null values in the last 3 columns , hence deleting those columns for now\n",
    "df.drop(\"Last TXN Amount\", axis =1, inplace = True)\n",
    "df.drop(\"Merchant Code\", axis =1, inplace = True)\n",
    "df.drop(\"Last Transaction Narrative\", axis =1, inplace = True)"
   ]
  },
  {
   "cell_type": "code",
   "execution_count": 6,
   "metadata": {},
   "outputs": [
    {
     "data": {
      "text/html": [
       "<div>\n",
       "<style scoped>\n",
       "    .dataframe tbody tr th:only-of-type {\n",
       "        vertical-align: middle;\n",
       "    }\n",
       "\n",
       "    .dataframe tbody tr th {\n",
       "        vertical-align: top;\n",
       "    }\n",
       "\n",
       "    .dataframe thead th {\n",
       "        text-align: right;\n",
       "    }\n",
       "</style>\n",
       "<table border=\"1\" class=\"dataframe\">\n",
       "  <thead>\n",
       "    <tr style=\"text-align: right;\">\n",
       "      <th></th>\n",
       "      <th>Client ID</th>\n",
       "      <th>Age</th>\n",
       "      <th>Gender</th>\n",
       "      <th>County</th>\n",
       "      <th>Income Group</th>\n",
       "      <th>Average_CA_transaction_amount</th>\n",
       "      <th>No_of_products_held</th>\n",
       "      <th>Held Loan previously</th>\n",
       "      <th>Num Transactions</th>\n",
       "      <th>Loan Flag</th>\n",
       "    </tr>\n",
       "  </thead>\n",
       "  <tbody>\n",
       "    <tr>\n",
       "      <th>0</th>\n",
       "      <td>1</td>\n",
       "      <td>36</td>\n",
       "      <td>1</td>\n",
       "      <td>cork</td>\n",
       "      <td>10001-40000</td>\n",
       "      <td>58</td>\n",
       "      <td>4</td>\n",
       "      <td>1</td>\n",
       "      <td>0.0</td>\n",
       "      <td>0</td>\n",
       "    </tr>\n",
       "    <tr>\n",
       "      <th>1</th>\n",
       "      <td>2</td>\n",
       "      <td>43</td>\n",
       "      <td>1</td>\n",
       "      <td>cavan</td>\n",
       "      <td>0-10000</td>\n",
       "      <td>2663</td>\n",
       "      <td>4</td>\n",
       "      <td>0</td>\n",
       "      <td>17.0</td>\n",
       "      <td>0</td>\n",
       "    </tr>\n",
       "    <tr>\n",
       "      <th>2</th>\n",
       "      <td>3</td>\n",
       "      <td>32</td>\n",
       "      <td>0</td>\n",
       "      <td>dublin</td>\n",
       "      <td>10001-40000</td>\n",
       "      <td>46</td>\n",
       "      <td>2</td>\n",
       "      <td>0</td>\n",
       "      <td>25.0</td>\n",
       "      <td>0</td>\n",
       "    </tr>\n",
       "    <tr>\n",
       "      <th>3</th>\n",
       "      <td>4</td>\n",
       "      <td>52</td>\n",
       "      <td>1</td>\n",
       "      <td>louth</td>\n",
       "      <td>40001-60000</td>\n",
       "      <td>0</td>\n",
       "      <td>2</td>\n",
       "      <td>1</td>\n",
       "      <td>13.0</td>\n",
       "      <td>0</td>\n",
       "    </tr>\n",
       "    <tr>\n",
       "      <th>4</th>\n",
       "      <td>5</td>\n",
       "      <td>63</td>\n",
       "      <td>0</td>\n",
       "      <td>kilkenny</td>\n",
       "      <td>60001-100000</td>\n",
       "      <td>126</td>\n",
       "      <td>1</td>\n",
       "      <td>0</td>\n",
       "      <td>39.0</td>\n",
       "      <td>0</td>\n",
       "    </tr>\n",
       "  </tbody>\n",
       "</table>\n",
       "</div>"
      ],
      "text/plain": [
       "   Client ID  Age  Gender    County  Income Group  \\\n",
       "0          1   36       1      cork   10001-40000   \n",
       "1          2   43       1     cavan       0-10000   \n",
       "2          3   32       0    dublin   10001-40000   \n",
       "3          4   52       1     louth   40001-60000   \n",
       "4          5   63       0  kilkenny  60001-100000   \n",
       "\n",
       "   Average_CA_transaction_amount  No_of_products_held  Held Loan previously  \\\n",
       "0                             58                    4                     1   \n",
       "1                           2663                    4                     0   \n",
       "2                             46                    2                     0   \n",
       "3                              0                    2                     1   \n",
       "4                            126                    1                     0   \n",
       "\n",
       "   Num Transactions  Loan Flag  \n",
       "0               0.0          0  \n",
       "1              17.0          0  \n",
       "2              25.0          0  \n",
       "3              13.0          0  \n",
       "4              39.0          0  "
      ]
     },
     "execution_count": 6,
     "metadata": {},
     "output_type": "execute_result"
    }
   ],
   "source": [
    "df.head()"
   ]
  },
  {
   "cell_type": "code",
   "execution_count": 7,
   "metadata": {},
   "outputs": [],
   "source": [
    "#Rearranging the columns for better access\n",
    "df = df[['Loan Flag','Client ID','Age','Gender','County','Income Group','Average_CA_transaction_amount','No_of_products_held','Held Loan previously','Num Transactions']]"
   ]
  },
  {
   "cell_type": "code",
   "execution_count": 8,
   "metadata": {},
   "outputs": [
    {
     "data": {
      "text/html": [
       "<div>\n",
       "<style scoped>\n",
       "    .dataframe tbody tr th:only-of-type {\n",
       "        vertical-align: middle;\n",
       "    }\n",
       "\n",
       "    .dataframe tbody tr th {\n",
       "        vertical-align: top;\n",
       "    }\n",
       "\n",
       "    .dataframe thead th {\n",
       "        text-align: right;\n",
       "    }\n",
       "</style>\n",
       "<table border=\"1\" class=\"dataframe\">\n",
       "  <thead>\n",
       "    <tr style=\"text-align: right;\">\n",
       "      <th></th>\n",
       "      <th>Loan Flag</th>\n",
       "      <th>Client ID</th>\n",
       "      <th>Age</th>\n",
       "      <th>Gender</th>\n",
       "      <th>County</th>\n",
       "      <th>Income Group</th>\n",
       "      <th>Average_CA_transaction_amount</th>\n",
       "      <th>No_of_products_held</th>\n",
       "      <th>Held Loan previously</th>\n",
       "      <th>Num Transactions</th>\n",
       "    </tr>\n",
       "  </thead>\n",
       "  <tbody>\n",
       "    <tr>\n",
       "      <th>0</th>\n",
       "      <td>0</td>\n",
       "      <td>1</td>\n",
       "      <td>36</td>\n",
       "      <td>1</td>\n",
       "      <td>cork</td>\n",
       "      <td>10001-40000</td>\n",
       "      <td>58</td>\n",
       "      <td>4</td>\n",
       "      <td>1</td>\n",
       "      <td>0.0</td>\n",
       "    </tr>\n",
       "    <tr>\n",
       "      <th>1</th>\n",
       "      <td>0</td>\n",
       "      <td>2</td>\n",
       "      <td>43</td>\n",
       "      <td>1</td>\n",
       "      <td>cavan</td>\n",
       "      <td>0-10000</td>\n",
       "      <td>2663</td>\n",
       "      <td>4</td>\n",
       "      <td>0</td>\n",
       "      <td>17.0</td>\n",
       "    </tr>\n",
       "    <tr>\n",
       "      <th>2</th>\n",
       "      <td>0</td>\n",
       "      <td>3</td>\n",
       "      <td>32</td>\n",
       "      <td>0</td>\n",
       "      <td>dublin</td>\n",
       "      <td>10001-40000</td>\n",
       "      <td>46</td>\n",
       "      <td>2</td>\n",
       "      <td>0</td>\n",
       "      <td>25.0</td>\n",
       "    </tr>\n",
       "    <tr>\n",
       "      <th>3</th>\n",
       "      <td>0</td>\n",
       "      <td>4</td>\n",
       "      <td>52</td>\n",
       "      <td>1</td>\n",
       "      <td>louth</td>\n",
       "      <td>40001-60000</td>\n",
       "      <td>0</td>\n",
       "      <td>2</td>\n",
       "      <td>1</td>\n",
       "      <td>13.0</td>\n",
       "    </tr>\n",
       "    <tr>\n",
       "      <th>4</th>\n",
       "      <td>0</td>\n",
       "      <td>5</td>\n",
       "      <td>63</td>\n",
       "      <td>0</td>\n",
       "      <td>kilkenny</td>\n",
       "      <td>60001-100000</td>\n",
       "      <td>126</td>\n",
       "      <td>1</td>\n",
       "      <td>0</td>\n",
       "      <td>39.0</td>\n",
       "    </tr>\n",
       "  </tbody>\n",
       "</table>\n",
       "</div>"
      ],
      "text/plain": [
       "   Loan Flag  Client ID  Age  Gender    County  Income Group  \\\n",
       "0          0          1   36       1      cork   10001-40000   \n",
       "1          0          2   43       1     cavan       0-10000   \n",
       "2          0          3   32       0    dublin   10001-40000   \n",
       "3          0          4   52       1     louth   40001-60000   \n",
       "4          0          5   63       0  kilkenny  60001-100000   \n",
       "\n",
       "   Average_CA_transaction_amount  No_of_products_held  Held Loan previously  \\\n",
       "0                             58                    4                     1   \n",
       "1                           2663                    4                     0   \n",
       "2                             46                    2                     0   \n",
       "3                              0                    2                     1   \n",
       "4                            126                    1                     0   \n",
       "\n",
       "   Num Transactions  \n",
       "0               0.0  \n",
       "1              17.0  \n",
       "2              25.0  \n",
       "3              13.0  \n",
       "4              39.0  "
      ]
     },
     "execution_count": 8,
     "metadata": {},
     "output_type": "execute_result"
    }
   ],
   "source": [
    "df.head()"
   ]
  },
  {
   "cell_type": "code",
   "execution_count": 9,
   "metadata": {},
   "outputs": [
    {
     "data": {
      "text/html": [
       "<div>\n",
       "<style scoped>\n",
       "    .dataframe tbody tr th:only-of-type {\n",
       "        vertical-align: middle;\n",
       "    }\n",
       "\n",
       "    .dataframe tbody tr th {\n",
       "        vertical-align: top;\n",
       "    }\n",
       "\n",
       "    .dataframe thead th {\n",
       "        text-align: right;\n",
       "    }\n",
       "</style>\n",
       "<table border=\"1\" class=\"dataframe\">\n",
       "  <thead>\n",
       "    <tr style=\"text-align: right;\">\n",
       "      <th></th>\n",
       "      <th>Loan Flag</th>\n",
       "      <th>Client ID</th>\n",
       "      <th>Age</th>\n",
       "      <th>Gender</th>\n",
       "      <th>Average_CA_transaction_amount</th>\n",
       "      <th>No_of_products_held</th>\n",
       "      <th>Held Loan previously</th>\n",
       "      <th>Num Transactions</th>\n",
       "    </tr>\n",
       "  </thead>\n",
       "  <tbody>\n",
       "    <tr>\n",
       "      <th>count</th>\n",
       "      <td>10000.000000</td>\n",
       "      <td>10000.00000</td>\n",
       "      <td>10000.000000</td>\n",
       "      <td>10000.000000</td>\n",
       "      <td>10000.000000</td>\n",
       "      <td>10000.000000</td>\n",
       "      <td>10000.000000</td>\n",
       "      <td>10000.000000</td>\n",
       "    </tr>\n",
       "    <tr>\n",
       "      <th>mean</th>\n",
       "      <td>0.021100</td>\n",
       "      <td>5000.50000</td>\n",
       "      <td>44.347000</td>\n",
       "      <td>0.509000</td>\n",
       "      <td>444.829200</td>\n",
       "      <td>3.002700</td>\n",
       "      <td>0.249800</td>\n",
       "      <td>18.292900</td>\n",
       "    </tr>\n",
       "    <tr>\n",
       "      <th>std</th>\n",
       "      <td>0.143725</td>\n",
       "      <td>2886.89568</td>\n",
       "      <td>14.849857</td>\n",
       "      <td>0.499944</td>\n",
       "      <td>877.434779</td>\n",
       "      <td>1.410068</td>\n",
       "      <td>0.432919</td>\n",
       "      <td>22.962819</td>\n",
       "    </tr>\n",
       "    <tr>\n",
       "      <th>min</th>\n",
       "      <td>0.000000</td>\n",
       "      <td>1.00000</td>\n",
       "      <td>20.000000</td>\n",
       "      <td>0.000000</td>\n",
       "      <td>0.000000</td>\n",
       "      <td>0.000000</td>\n",
       "      <td>0.000000</td>\n",
       "      <td>0.000000</td>\n",
       "    </tr>\n",
       "    <tr>\n",
       "      <th>25%</th>\n",
       "      <td>0.000000</td>\n",
       "      <td>2500.75000</td>\n",
       "      <td>32.000000</td>\n",
       "      <td>0.000000</td>\n",
       "      <td>0.000000</td>\n",
       "      <td>2.000000</td>\n",
       "      <td>0.000000</td>\n",
       "      <td>0.000000</td>\n",
       "    </tr>\n",
       "    <tr>\n",
       "      <th>50%</th>\n",
       "      <td>0.000000</td>\n",
       "      <td>5000.50000</td>\n",
       "      <td>44.000000</td>\n",
       "      <td>1.000000</td>\n",
       "      <td>30.000000</td>\n",
       "      <td>3.000000</td>\n",
       "      <td>0.000000</td>\n",
       "      <td>10.000000</td>\n",
       "    </tr>\n",
       "    <tr>\n",
       "      <th>75%</th>\n",
       "      <td>0.000000</td>\n",
       "      <td>7500.25000</td>\n",
       "      <td>57.000000</td>\n",
       "      <td>1.000000</td>\n",
       "      <td>402.000000</td>\n",
       "      <td>4.000000</td>\n",
       "      <td>0.000000</td>\n",
       "      <td>30.000000</td>\n",
       "    </tr>\n",
       "    <tr>\n",
       "      <th>max</th>\n",
       "      <td>1.000000</td>\n",
       "      <td>10000.00000</td>\n",
       "      <td>100.000000</td>\n",
       "      <td>1.000000</td>\n",
       "      <td>9470.000000</td>\n",
       "      <td>5.000000</td>\n",
       "      <td>1.000000</td>\n",
       "      <td>100.000000</td>\n",
       "    </tr>\n",
       "  </tbody>\n",
       "</table>\n",
       "</div>"
      ],
      "text/plain": [
       "          Loan Flag    Client ID           Age        Gender  \\\n",
       "count  10000.000000  10000.00000  10000.000000  10000.000000   \n",
       "mean       0.021100   5000.50000     44.347000      0.509000   \n",
       "std        0.143725   2886.89568     14.849857      0.499944   \n",
       "min        0.000000      1.00000     20.000000      0.000000   \n",
       "25%        0.000000   2500.75000     32.000000      0.000000   \n",
       "50%        0.000000   5000.50000     44.000000      1.000000   \n",
       "75%        0.000000   7500.25000     57.000000      1.000000   \n",
       "max        1.000000  10000.00000    100.000000      1.000000   \n",
       "\n",
       "       Average_CA_transaction_amount  No_of_products_held  \\\n",
       "count                   10000.000000         10000.000000   \n",
       "mean                      444.829200             3.002700   \n",
       "std                       877.434779             1.410068   \n",
       "min                         0.000000             0.000000   \n",
       "25%                         0.000000             2.000000   \n",
       "50%                        30.000000             3.000000   \n",
       "75%                       402.000000             4.000000   \n",
       "max                      9470.000000             5.000000   \n",
       "\n",
       "       Held Loan previously  Num Transactions  \n",
       "count          10000.000000      10000.000000  \n",
       "mean               0.249800         18.292900  \n",
       "std                0.432919         22.962819  \n",
       "min                0.000000          0.000000  \n",
       "25%                0.000000          0.000000  \n",
       "50%                0.000000         10.000000  \n",
       "75%                0.000000         30.000000  \n",
       "max                1.000000        100.000000  "
      ]
     },
     "execution_count": 9,
     "metadata": {},
     "output_type": "execute_result"
    }
   ],
   "source": [
    "df.describe()"
   ]
  },
  {
   "cell_type": "code",
   "execution_count": 10,
   "metadata": {},
   "outputs": [],
   "source": [
    "#Filling the Null values with None for County column\n",
    "df.fillna(\"None\", inplace = True)"
   ]
  },
  {
   "cell_type": "code",
   "execution_count": 11,
   "metadata": {},
   "outputs": [
    {
     "data": {
      "text/plain": [
       "Loan Flag                        0\n",
       "Client ID                        0\n",
       "Age                              0\n",
       "Gender                           0\n",
       "County                           0\n",
       "Income Group                     0\n",
       "Average_CA_transaction_amount    0\n",
       "No_of_products_held              0\n",
       "Held Loan previously             0\n",
       "Num Transactions                 0\n",
       "dtype: int64"
      ]
     },
     "execution_count": 11,
     "metadata": {},
     "output_type": "execute_result"
    }
   ],
   "source": [
    "#No more null vlaues\n",
    "df.isnull().sum()"
   ]
  },
  {
   "cell_type": "code",
   "execution_count": 12,
   "metadata": {},
   "outputs": [
    {
     "data": {
      "text/plain": [
       "array(['cork', 'cavan', 'dublin', 'louth', 'kilkenny', 'kildare',\n",
       "       'carlow', 'offaly', 'galway', 'wicklow', 'None', 'kerry',\n",
       "       'waterford', 'monaghan', 'mayo', 'donegal', 'laois', 'tipperary',\n",
       "       'clare', 'meath', 'leitrim', 'longford', 'limerick', 'navan',\n",
       "       'borris', 'sandyford', 'maynooth', 'portlaoise', 'trim', 'ballina',\n",
       "       'spain', 'sligo town', 'rosslare', 'northern ireland', 'lahinch',\n",
       "       'adare', 'boyle', 'county mayo', 'kildare town', 'county longford'],\n",
       "      dtype=object)"
      ]
     },
     "execution_count": 12,
     "metadata": {},
     "output_type": "execute_result"
    }
   ],
   "source": [
    "df.County.unique()"
   ]
  },
  {
   "cell_type": "code",
   "execution_count": 13,
   "metadata": {},
   "outputs": [
    {
     "data": {
      "text/html": [
       "<div>\n",
       "<style scoped>\n",
       "    .dataframe tbody tr th:only-of-type {\n",
       "        vertical-align: middle;\n",
       "    }\n",
       "\n",
       "    .dataframe tbody tr th {\n",
       "        vertical-align: top;\n",
       "    }\n",
       "\n",
       "    .dataframe thead th {\n",
       "        text-align: right;\n",
       "    }\n",
       "</style>\n",
       "<table border=\"1\" class=\"dataframe\">\n",
       "  <thead>\n",
       "    <tr style=\"text-align: right;\">\n",
       "      <th></th>\n",
       "      <th>Loan Flag</th>\n",
       "      <th>Client ID</th>\n",
       "      <th>Age</th>\n",
       "      <th>Gender</th>\n",
       "      <th>County</th>\n",
       "      <th>Income Group</th>\n",
       "      <th>Average_CA_transaction_amount</th>\n",
       "      <th>No_of_products_held</th>\n",
       "      <th>Held Loan previously</th>\n",
       "      <th>Num Transactions</th>\n",
       "    </tr>\n",
       "  </thead>\n",
       "  <tbody>\n",
       "    <tr>\n",
       "      <th>0</th>\n",
       "      <td>0</td>\n",
       "      <td>1</td>\n",
       "      <td>36</td>\n",
       "      <td>1</td>\n",
       "      <td>cork</td>\n",
       "      <td>10001-40000</td>\n",
       "      <td>58</td>\n",
       "      <td>4</td>\n",
       "      <td>1</td>\n",
       "      <td>0.0</td>\n",
       "    </tr>\n",
       "    <tr>\n",
       "      <th>1</th>\n",
       "      <td>0</td>\n",
       "      <td>2</td>\n",
       "      <td>43</td>\n",
       "      <td>1</td>\n",
       "      <td>cavan</td>\n",
       "      <td>0-10000</td>\n",
       "      <td>2663</td>\n",
       "      <td>4</td>\n",
       "      <td>0</td>\n",
       "      <td>17.0</td>\n",
       "    </tr>\n",
       "    <tr>\n",
       "      <th>2</th>\n",
       "      <td>0</td>\n",
       "      <td>3</td>\n",
       "      <td>32</td>\n",
       "      <td>0</td>\n",
       "      <td>dublin</td>\n",
       "      <td>10001-40000</td>\n",
       "      <td>46</td>\n",
       "      <td>2</td>\n",
       "      <td>0</td>\n",
       "      <td>25.0</td>\n",
       "    </tr>\n",
       "    <tr>\n",
       "      <th>3</th>\n",
       "      <td>0</td>\n",
       "      <td>4</td>\n",
       "      <td>52</td>\n",
       "      <td>1</td>\n",
       "      <td>louth</td>\n",
       "      <td>40001-60000</td>\n",
       "      <td>0</td>\n",
       "      <td>2</td>\n",
       "      <td>1</td>\n",
       "      <td>13.0</td>\n",
       "    </tr>\n",
       "    <tr>\n",
       "      <th>4</th>\n",
       "      <td>0</td>\n",
       "      <td>5</td>\n",
       "      <td>63</td>\n",
       "      <td>0</td>\n",
       "      <td>kilkenny</td>\n",
       "      <td>60001-100000</td>\n",
       "      <td>126</td>\n",
       "      <td>1</td>\n",
       "      <td>0</td>\n",
       "      <td>39.0</td>\n",
       "    </tr>\n",
       "  </tbody>\n",
       "</table>\n",
       "</div>"
      ],
      "text/plain": [
       "   Loan Flag  Client ID  Age  Gender    County  Income Group  \\\n",
       "0          0          1   36       1      cork   10001-40000   \n",
       "1          0          2   43       1     cavan       0-10000   \n",
       "2          0          3   32       0    dublin   10001-40000   \n",
       "3          0          4   52       1     louth   40001-60000   \n",
       "4          0          5   63       0  kilkenny  60001-100000   \n",
       "\n",
       "   Average_CA_transaction_amount  No_of_products_held  Held Loan previously  \\\n",
       "0                             58                    4                     1   \n",
       "1                           2663                    4                     0   \n",
       "2                             46                    2                     0   \n",
       "3                              0                    2                     1   \n",
       "4                            126                    1                     0   \n",
       "\n",
       "   Num Transactions  \n",
       "0               0.0  \n",
       "1              17.0  \n",
       "2              25.0  \n",
       "3              13.0  \n",
       "4              39.0  "
      ]
     },
     "execution_count": 13,
     "metadata": {},
     "output_type": "execute_result"
    }
   ],
   "source": [
    "df.head()"
   ]
  },
  {
   "cell_type": "code",
   "execution_count": 14,
   "metadata": {},
   "outputs": [],
   "source": [
    "#Dataset is all ready for pre-processing"
   ]
  },
  {
   "cell_type": "markdown",
   "metadata": {},
   "source": [
    "<h2>Data Pre-processing for modelling</h2>"
   ]
  },
  {
   "cell_type": "code",
   "execution_count": 15,
   "metadata": {},
   "outputs": [],
   "source": [
    "#Creating the dummy variables for the Income grpup column\n",
    "dummy_variables = pd.get_dummies(df['Income Group'])\n",
    "ready_data = pd.concat([df,dummy_variables], axis=1)"
   ]
  },
  {
   "cell_type": "code",
   "execution_count": 16,
   "metadata": {},
   "outputs": [
    {
     "data": {
      "text/html": [
       "<div>\n",
       "<style scoped>\n",
       "    .dataframe tbody tr th:only-of-type {\n",
       "        vertical-align: middle;\n",
       "    }\n",
       "\n",
       "    .dataframe tbody tr th {\n",
       "        vertical-align: top;\n",
       "    }\n",
       "\n",
       "    .dataframe thead th {\n",
       "        text-align: right;\n",
       "    }\n",
       "</style>\n",
       "<table border=\"1\" class=\"dataframe\">\n",
       "  <thead>\n",
       "    <tr style=\"text-align: right;\">\n",
       "      <th></th>\n",
       "      <th>Loan Flag</th>\n",
       "      <th>Client ID</th>\n",
       "      <th>Age</th>\n",
       "      <th>Gender</th>\n",
       "      <th>County</th>\n",
       "      <th>Income Group</th>\n",
       "      <th>Average_CA_transaction_amount</th>\n",
       "      <th>No_of_products_held</th>\n",
       "      <th>Held Loan previously</th>\n",
       "      <th>Num Transactions</th>\n",
       "      <th>0-10000</th>\n",
       "      <th>100000+</th>\n",
       "      <th>10001-40000</th>\n",
       "      <th>40001-60000</th>\n",
       "      <th>60001-100000</th>\n",
       "    </tr>\n",
       "  </thead>\n",
       "  <tbody>\n",
       "    <tr>\n",
       "      <th>0</th>\n",
       "      <td>0</td>\n",
       "      <td>1</td>\n",
       "      <td>36</td>\n",
       "      <td>1</td>\n",
       "      <td>cork</td>\n",
       "      <td>10001-40000</td>\n",
       "      <td>58</td>\n",
       "      <td>4</td>\n",
       "      <td>1</td>\n",
       "      <td>0.0</td>\n",
       "      <td>0</td>\n",
       "      <td>0</td>\n",
       "      <td>1</td>\n",
       "      <td>0</td>\n",
       "      <td>0</td>\n",
       "    </tr>\n",
       "    <tr>\n",
       "      <th>1</th>\n",
       "      <td>0</td>\n",
       "      <td>2</td>\n",
       "      <td>43</td>\n",
       "      <td>1</td>\n",
       "      <td>cavan</td>\n",
       "      <td>0-10000</td>\n",
       "      <td>2663</td>\n",
       "      <td>4</td>\n",
       "      <td>0</td>\n",
       "      <td>17.0</td>\n",
       "      <td>1</td>\n",
       "      <td>0</td>\n",
       "      <td>0</td>\n",
       "      <td>0</td>\n",
       "      <td>0</td>\n",
       "    </tr>\n",
       "    <tr>\n",
       "      <th>2</th>\n",
       "      <td>0</td>\n",
       "      <td>3</td>\n",
       "      <td>32</td>\n",
       "      <td>0</td>\n",
       "      <td>dublin</td>\n",
       "      <td>10001-40000</td>\n",
       "      <td>46</td>\n",
       "      <td>2</td>\n",
       "      <td>0</td>\n",
       "      <td>25.0</td>\n",
       "      <td>0</td>\n",
       "      <td>0</td>\n",
       "      <td>1</td>\n",
       "      <td>0</td>\n",
       "      <td>0</td>\n",
       "    </tr>\n",
       "    <tr>\n",
       "      <th>3</th>\n",
       "      <td>0</td>\n",
       "      <td>4</td>\n",
       "      <td>52</td>\n",
       "      <td>1</td>\n",
       "      <td>louth</td>\n",
       "      <td>40001-60000</td>\n",
       "      <td>0</td>\n",
       "      <td>2</td>\n",
       "      <td>1</td>\n",
       "      <td>13.0</td>\n",
       "      <td>0</td>\n",
       "      <td>0</td>\n",
       "      <td>0</td>\n",
       "      <td>1</td>\n",
       "      <td>0</td>\n",
       "    </tr>\n",
       "    <tr>\n",
       "      <th>4</th>\n",
       "      <td>0</td>\n",
       "      <td>5</td>\n",
       "      <td>63</td>\n",
       "      <td>0</td>\n",
       "      <td>kilkenny</td>\n",
       "      <td>60001-100000</td>\n",
       "      <td>126</td>\n",
       "      <td>1</td>\n",
       "      <td>0</td>\n",
       "      <td>39.0</td>\n",
       "      <td>0</td>\n",
       "      <td>0</td>\n",
       "      <td>0</td>\n",
       "      <td>0</td>\n",
       "      <td>1</td>\n",
       "    </tr>\n",
       "  </tbody>\n",
       "</table>\n",
       "</div>"
      ],
      "text/plain": [
       "   Loan Flag  Client ID  Age  Gender    County  Income Group  \\\n",
       "0          0          1   36       1      cork   10001-40000   \n",
       "1          0          2   43       1     cavan       0-10000   \n",
       "2          0          3   32       0    dublin   10001-40000   \n",
       "3          0          4   52       1     louth   40001-60000   \n",
       "4          0          5   63       0  kilkenny  60001-100000   \n",
       "\n",
       "   Average_CA_transaction_amount  No_of_products_held  Held Loan previously  \\\n",
       "0                             58                    4                     1   \n",
       "1                           2663                    4                     0   \n",
       "2                             46                    2                     0   \n",
       "3                              0                    2                     1   \n",
       "4                            126                    1                     0   \n",
       "\n",
       "   Num Transactions  0-10000  100000+  10001-40000  40001-60000  60001-100000  \n",
       "0               0.0        0        0            1            0             0  \n",
       "1              17.0        1        0            0            0             0  \n",
       "2              25.0        0        0            1            0             0  \n",
       "3              13.0        0        0            0            1             0  \n",
       "4              39.0        0        0            0            0             1  "
      ]
     },
     "execution_count": 16,
     "metadata": {},
     "output_type": "execute_result"
    }
   ],
   "source": [
    "ready_data.head()"
   ]
  },
  {
   "cell_type": "code",
   "execution_count": 17,
   "metadata": {},
   "outputs": [
    {
     "data": {
      "text/plain": [
       "(10000, 15)"
      ]
     },
     "execution_count": 17,
     "metadata": {},
     "output_type": "execute_result"
    }
   ],
   "source": [
    "ready_data.shape"
   ]
  },
  {
   "cell_type": "code",
   "execution_count": 18,
   "metadata": {},
   "outputs": [],
   "source": [
    "#Creating the dummy variables for the county column\n",
    "dummy_variables = pd.get_dummies(ready_data['County'])\n",
    "ready_data = pd.concat([ready_data,dummy_variables], axis=1)"
   ]
  },
  {
   "cell_type": "code",
   "execution_count": 19,
   "metadata": {},
   "outputs": [
    {
     "data": {
      "text/html": [
       "<div>\n",
       "<style scoped>\n",
       "    .dataframe tbody tr th:only-of-type {\n",
       "        vertical-align: middle;\n",
       "    }\n",
       "\n",
       "    .dataframe tbody tr th {\n",
       "        vertical-align: top;\n",
       "    }\n",
       "\n",
       "    .dataframe thead th {\n",
       "        text-align: right;\n",
       "    }\n",
       "</style>\n",
       "<table border=\"1\" class=\"dataframe\">\n",
       "  <thead>\n",
       "    <tr style=\"text-align: right;\">\n",
       "      <th></th>\n",
       "      <th>Loan Flag</th>\n",
       "      <th>Client ID</th>\n",
       "      <th>Age</th>\n",
       "      <th>Gender</th>\n",
       "      <th>County</th>\n",
       "      <th>Income Group</th>\n",
       "      <th>Average_CA_transaction_amount</th>\n",
       "      <th>No_of_products_held</th>\n",
       "      <th>Held Loan previously</th>\n",
       "      <th>Num Transactions</th>\n",
       "      <th>...</th>\n",
       "      <th>offaly</th>\n",
       "      <th>portlaoise</th>\n",
       "      <th>rosslare</th>\n",
       "      <th>sandyford</th>\n",
       "      <th>sligo town</th>\n",
       "      <th>spain</th>\n",
       "      <th>tipperary</th>\n",
       "      <th>trim</th>\n",
       "      <th>waterford</th>\n",
       "      <th>wicklow</th>\n",
       "    </tr>\n",
       "  </thead>\n",
       "  <tbody>\n",
       "    <tr>\n",
       "      <th>0</th>\n",
       "      <td>0</td>\n",
       "      <td>1</td>\n",
       "      <td>36</td>\n",
       "      <td>1</td>\n",
       "      <td>cork</td>\n",
       "      <td>10001-40000</td>\n",
       "      <td>58</td>\n",
       "      <td>4</td>\n",
       "      <td>1</td>\n",
       "      <td>0.0</td>\n",
       "      <td>...</td>\n",
       "      <td>0</td>\n",
       "      <td>0</td>\n",
       "      <td>0</td>\n",
       "      <td>0</td>\n",
       "      <td>0</td>\n",
       "      <td>0</td>\n",
       "      <td>0</td>\n",
       "      <td>0</td>\n",
       "      <td>0</td>\n",
       "      <td>0</td>\n",
       "    </tr>\n",
       "    <tr>\n",
       "      <th>1</th>\n",
       "      <td>0</td>\n",
       "      <td>2</td>\n",
       "      <td>43</td>\n",
       "      <td>1</td>\n",
       "      <td>cavan</td>\n",
       "      <td>0-10000</td>\n",
       "      <td>2663</td>\n",
       "      <td>4</td>\n",
       "      <td>0</td>\n",
       "      <td>17.0</td>\n",
       "      <td>...</td>\n",
       "      <td>0</td>\n",
       "      <td>0</td>\n",
       "      <td>0</td>\n",
       "      <td>0</td>\n",
       "      <td>0</td>\n",
       "      <td>0</td>\n",
       "      <td>0</td>\n",
       "      <td>0</td>\n",
       "      <td>0</td>\n",
       "      <td>0</td>\n",
       "    </tr>\n",
       "    <tr>\n",
       "      <th>2</th>\n",
       "      <td>0</td>\n",
       "      <td>3</td>\n",
       "      <td>32</td>\n",
       "      <td>0</td>\n",
       "      <td>dublin</td>\n",
       "      <td>10001-40000</td>\n",
       "      <td>46</td>\n",
       "      <td>2</td>\n",
       "      <td>0</td>\n",
       "      <td>25.0</td>\n",
       "      <td>...</td>\n",
       "      <td>0</td>\n",
       "      <td>0</td>\n",
       "      <td>0</td>\n",
       "      <td>0</td>\n",
       "      <td>0</td>\n",
       "      <td>0</td>\n",
       "      <td>0</td>\n",
       "      <td>0</td>\n",
       "      <td>0</td>\n",
       "      <td>0</td>\n",
       "    </tr>\n",
       "    <tr>\n",
       "      <th>3</th>\n",
       "      <td>0</td>\n",
       "      <td>4</td>\n",
       "      <td>52</td>\n",
       "      <td>1</td>\n",
       "      <td>louth</td>\n",
       "      <td>40001-60000</td>\n",
       "      <td>0</td>\n",
       "      <td>2</td>\n",
       "      <td>1</td>\n",
       "      <td>13.0</td>\n",
       "      <td>...</td>\n",
       "      <td>0</td>\n",
       "      <td>0</td>\n",
       "      <td>0</td>\n",
       "      <td>0</td>\n",
       "      <td>0</td>\n",
       "      <td>0</td>\n",
       "      <td>0</td>\n",
       "      <td>0</td>\n",
       "      <td>0</td>\n",
       "      <td>0</td>\n",
       "    </tr>\n",
       "    <tr>\n",
       "      <th>4</th>\n",
       "      <td>0</td>\n",
       "      <td>5</td>\n",
       "      <td>63</td>\n",
       "      <td>0</td>\n",
       "      <td>kilkenny</td>\n",
       "      <td>60001-100000</td>\n",
       "      <td>126</td>\n",
       "      <td>1</td>\n",
       "      <td>0</td>\n",
       "      <td>39.0</td>\n",
       "      <td>...</td>\n",
       "      <td>0</td>\n",
       "      <td>0</td>\n",
       "      <td>0</td>\n",
       "      <td>0</td>\n",
       "      <td>0</td>\n",
       "      <td>0</td>\n",
       "      <td>0</td>\n",
       "      <td>0</td>\n",
       "      <td>0</td>\n",
       "      <td>0</td>\n",
       "    </tr>\n",
       "  </tbody>\n",
       "</table>\n",
       "<p>5 rows × 55 columns</p>\n",
       "</div>"
      ],
      "text/plain": [
       "   Loan Flag  Client ID  Age  Gender    County  Income Group  \\\n",
       "0          0          1   36       1      cork   10001-40000   \n",
       "1          0          2   43       1     cavan       0-10000   \n",
       "2          0          3   32       0    dublin   10001-40000   \n",
       "3          0          4   52       1     louth   40001-60000   \n",
       "4          0          5   63       0  kilkenny  60001-100000   \n",
       "\n",
       "   Average_CA_transaction_amount  No_of_products_held  Held Loan previously  \\\n",
       "0                             58                    4                     1   \n",
       "1                           2663                    4                     0   \n",
       "2                             46                    2                     0   \n",
       "3                              0                    2                     1   \n",
       "4                            126                    1                     0   \n",
       "\n",
       "   Num Transactions   ...     offaly  portlaoise  rosslare  sandyford  \\\n",
       "0               0.0   ...          0           0         0          0   \n",
       "1              17.0   ...          0           0         0          0   \n",
       "2              25.0   ...          0           0         0          0   \n",
       "3              13.0   ...          0           0         0          0   \n",
       "4              39.0   ...          0           0         0          0   \n",
       "\n",
       "   sligo town  spain  tipperary  trim  waterford  wicklow  \n",
       "0           0      0          0     0          0        0  \n",
       "1           0      0          0     0          0        0  \n",
       "2           0      0          0     0          0        0  \n",
       "3           0      0          0     0          0        0  \n",
       "4           0      0          0     0          0        0  \n",
       "\n",
       "[5 rows x 55 columns]"
      ]
     },
     "execution_count": 19,
     "metadata": {},
     "output_type": "execute_result"
    }
   ],
   "source": [
    "ready_data.head()"
   ]
  },
  {
   "cell_type": "code",
   "execution_count": 20,
   "metadata": {},
   "outputs": [
    {
     "data": {
      "text/plain": [
       "(10000, 55)"
      ]
     },
     "execution_count": 20,
     "metadata": {},
     "output_type": "execute_result"
    }
   ],
   "source": [
    "ready_data.shape"
   ]
  },
  {
   "cell_type": "code",
   "execution_count": 21,
   "metadata": {},
   "outputs": [],
   "source": [
    "#Dropping the columns that are no more required for. modelling\n",
    "ready_data.drop('Income Group', axis = 1, inplace= True)\n",
    "ready_data.drop('Client ID', axis = 1, inplace = True)\n",
    "ready_data.drop('County', axis = 1, inplace= True)"
   ]
  },
  {
   "cell_type": "code",
   "execution_count": 22,
   "metadata": {},
   "outputs": [
    {
     "data": {
      "text/plain": [
       "(10000, 52)"
      ]
     },
     "execution_count": 22,
     "metadata": {},
     "output_type": "execute_result"
    }
   ],
   "source": [
    "ready_data.shape"
   ]
  },
  {
   "cell_type": "code",
   "execution_count": 23,
   "metadata": {},
   "outputs": [
    {
     "data": {
      "text/html": [
       "<div>\n",
       "<style scoped>\n",
       "    .dataframe tbody tr th:only-of-type {\n",
       "        vertical-align: middle;\n",
       "    }\n",
       "\n",
       "    .dataframe tbody tr th {\n",
       "        vertical-align: top;\n",
       "    }\n",
       "\n",
       "    .dataframe thead th {\n",
       "        text-align: right;\n",
       "    }\n",
       "</style>\n",
       "<table border=\"1\" class=\"dataframe\">\n",
       "  <thead>\n",
       "    <tr style=\"text-align: right;\">\n",
       "      <th></th>\n",
       "      <th>Loan Flag</th>\n",
       "      <th>Age</th>\n",
       "      <th>Gender</th>\n",
       "      <th>Average_CA_transaction_amount</th>\n",
       "      <th>No_of_products_held</th>\n",
       "      <th>Held Loan previously</th>\n",
       "      <th>Num Transactions</th>\n",
       "      <th>0-10000</th>\n",
       "      <th>100000+</th>\n",
       "      <th>10001-40000</th>\n",
       "      <th>...</th>\n",
       "      <th>offaly</th>\n",
       "      <th>portlaoise</th>\n",
       "      <th>rosslare</th>\n",
       "      <th>sandyford</th>\n",
       "      <th>sligo town</th>\n",
       "      <th>spain</th>\n",
       "      <th>tipperary</th>\n",
       "      <th>trim</th>\n",
       "      <th>waterford</th>\n",
       "      <th>wicklow</th>\n",
       "    </tr>\n",
       "  </thead>\n",
       "  <tbody>\n",
       "    <tr>\n",
       "      <th>0</th>\n",
       "      <td>0</td>\n",
       "      <td>36</td>\n",
       "      <td>1</td>\n",
       "      <td>58</td>\n",
       "      <td>4</td>\n",
       "      <td>1</td>\n",
       "      <td>0.0</td>\n",
       "      <td>0</td>\n",
       "      <td>0</td>\n",
       "      <td>1</td>\n",
       "      <td>...</td>\n",
       "      <td>0</td>\n",
       "      <td>0</td>\n",
       "      <td>0</td>\n",
       "      <td>0</td>\n",
       "      <td>0</td>\n",
       "      <td>0</td>\n",
       "      <td>0</td>\n",
       "      <td>0</td>\n",
       "      <td>0</td>\n",
       "      <td>0</td>\n",
       "    </tr>\n",
       "    <tr>\n",
       "      <th>1</th>\n",
       "      <td>0</td>\n",
       "      <td>43</td>\n",
       "      <td>1</td>\n",
       "      <td>2663</td>\n",
       "      <td>4</td>\n",
       "      <td>0</td>\n",
       "      <td>17.0</td>\n",
       "      <td>1</td>\n",
       "      <td>0</td>\n",
       "      <td>0</td>\n",
       "      <td>...</td>\n",
       "      <td>0</td>\n",
       "      <td>0</td>\n",
       "      <td>0</td>\n",
       "      <td>0</td>\n",
       "      <td>0</td>\n",
       "      <td>0</td>\n",
       "      <td>0</td>\n",
       "      <td>0</td>\n",
       "      <td>0</td>\n",
       "      <td>0</td>\n",
       "    </tr>\n",
       "    <tr>\n",
       "      <th>2</th>\n",
       "      <td>0</td>\n",
       "      <td>32</td>\n",
       "      <td>0</td>\n",
       "      <td>46</td>\n",
       "      <td>2</td>\n",
       "      <td>0</td>\n",
       "      <td>25.0</td>\n",
       "      <td>0</td>\n",
       "      <td>0</td>\n",
       "      <td>1</td>\n",
       "      <td>...</td>\n",
       "      <td>0</td>\n",
       "      <td>0</td>\n",
       "      <td>0</td>\n",
       "      <td>0</td>\n",
       "      <td>0</td>\n",
       "      <td>0</td>\n",
       "      <td>0</td>\n",
       "      <td>0</td>\n",
       "      <td>0</td>\n",
       "      <td>0</td>\n",
       "    </tr>\n",
       "    <tr>\n",
       "      <th>3</th>\n",
       "      <td>0</td>\n",
       "      <td>52</td>\n",
       "      <td>1</td>\n",
       "      <td>0</td>\n",
       "      <td>2</td>\n",
       "      <td>1</td>\n",
       "      <td>13.0</td>\n",
       "      <td>0</td>\n",
       "      <td>0</td>\n",
       "      <td>0</td>\n",
       "      <td>...</td>\n",
       "      <td>0</td>\n",
       "      <td>0</td>\n",
       "      <td>0</td>\n",
       "      <td>0</td>\n",
       "      <td>0</td>\n",
       "      <td>0</td>\n",
       "      <td>0</td>\n",
       "      <td>0</td>\n",
       "      <td>0</td>\n",
       "      <td>0</td>\n",
       "    </tr>\n",
       "    <tr>\n",
       "      <th>4</th>\n",
       "      <td>0</td>\n",
       "      <td>63</td>\n",
       "      <td>0</td>\n",
       "      <td>126</td>\n",
       "      <td>1</td>\n",
       "      <td>0</td>\n",
       "      <td>39.0</td>\n",
       "      <td>0</td>\n",
       "      <td>0</td>\n",
       "      <td>0</td>\n",
       "      <td>...</td>\n",
       "      <td>0</td>\n",
       "      <td>0</td>\n",
       "      <td>0</td>\n",
       "      <td>0</td>\n",
       "      <td>0</td>\n",
       "      <td>0</td>\n",
       "      <td>0</td>\n",
       "      <td>0</td>\n",
       "      <td>0</td>\n",
       "      <td>0</td>\n",
       "    </tr>\n",
       "  </tbody>\n",
       "</table>\n",
       "<p>5 rows × 52 columns</p>\n",
       "</div>"
      ],
      "text/plain": [
       "   Loan Flag  Age  Gender  Average_CA_transaction_amount  No_of_products_held  \\\n",
       "0          0   36       1                             58                    4   \n",
       "1          0   43       1                           2663                    4   \n",
       "2          0   32       0                             46                    2   \n",
       "3          0   52       1                              0                    2   \n",
       "4          0   63       0                            126                    1   \n",
       "\n",
       "   Held Loan previously  Num Transactions  0-10000  100000+  10001-40000  \\\n",
       "0                     1               0.0        0        0            1   \n",
       "1                     0              17.0        1        0            0   \n",
       "2                     0              25.0        0        0            1   \n",
       "3                     1              13.0        0        0            0   \n",
       "4                     0              39.0        0        0            0   \n",
       "\n",
       "    ...     offaly  portlaoise  rosslare  sandyford  sligo town  spain  \\\n",
       "0   ...          0           0         0          0           0      0   \n",
       "1   ...          0           0         0          0           0      0   \n",
       "2   ...          0           0         0          0           0      0   \n",
       "3   ...          0           0         0          0           0      0   \n",
       "4   ...          0           0         0          0           0      0   \n",
       "\n",
       "   tipperary  trim  waterford  wicklow  \n",
       "0          0     0          0        0  \n",
       "1          0     0          0        0  \n",
       "2          0     0          0        0  \n",
       "3          0     0          0        0  \n",
       "4          0     0          0        0  \n",
       "\n",
       "[5 rows x 52 columns]"
      ]
     },
     "execution_count": 23,
     "metadata": {},
     "output_type": "execute_result"
    }
   ],
   "source": [
    "ready_data.head()"
   ]
  },
  {
   "cell_type": "code",
   "execution_count": 24,
   "metadata": {},
   "outputs": [],
   "source": [
    "#Assigning the dependent variable\n",
    "y = ready_data.loc[:,'Loan Flag'].values"
   ]
  },
  {
   "cell_type": "code",
   "execution_count": 25,
   "metadata": {},
   "outputs": [],
   "source": [
    "#Need to reshape for applying the stats model\n",
    "y = y.reshape(-1,1)"
   ]
  },
  {
   "cell_type": "code",
   "execution_count": 26,
   "metadata": {},
   "outputs": [
    {
     "data": {
      "text/plain": [
       "(10000, 1)"
      ]
     },
     "execution_count": 26,
     "metadata": {},
     "output_type": "execute_result"
    }
   ],
   "source": [
    "y.shape"
   ]
  },
  {
   "cell_type": "code",
   "execution_count": 27,
   "metadata": {},
   "outputs": [],
   "source": [
    "#Assigning the indepedent variables \n",
    "X = ready_data.iloc[:, 1:51 ].values"
   ]
  },
  {
   "cell_type": "code",
   "execution_count": 28,
   "metadata": {},
   "outputs": [
    {
     "name": "stdout",
     "output_type": "stream",
     "text": [
      "Warning: Maximum number of iterations has been exceeded.\n",
      "         Current function value: 0.018633\n",
      "         Iterations: 35\n",
      "                        Results: Logit\n",
      "===============================================================\n",
      "Model:              Logit            Pseudo R-squared: 0.818   \n",
      "Dependent Variable: y                AIC:              472.6661\n",
      "Date:               2020-04-10 16:08 BIC:              833.1831\n",
      "No. Observations:   10000            Log-Likelihood:   -186.33 \n",
      "Df Model:           49               LL-Null:          -1022.9 \n",
      "Df Residuals:       9950             LLR p-value:      0.0000  \n",
      "Converged:          0.0000           Scale:            1.0000  \n",
      "No. Iterations:     35.0000                                    \n",
      "---------------------------------------------------------------\n",
      "      Coef.    Std.Err.     z     P>|z|     [0.025     0.975]  \n",
      "---------------------------------------------------------------\n",
      "x1     0.0441     0.0097   4.5337 0.0000      0.0250     0.0632\n",
      "x2    -0.1941     0.2818  -0.6889 0.4909     -0.7464     0.3582\n",
      "x3     0.0028     0.0002  13.3265 0.0000      0.0024     0.0032\n",
      "x4    -0.0347     0.1029  -0.3375 0.7358     -0.2365     0.1670\n",
      "x5     6.8575     0.5522  12.4190 0.0000      5.7753     7.9398\n",
      "x6     0.1507     0.0106  14.2035 0.0000      0.1299     0.1715\n",
      "x7   -21.1868     1.8804 -11.2673 0.0000    -24.8722   -17.5013\n",
      "x8   -20.6854     1.7624 -11.7373 0.0000    -24.1396   -17.2312\n",
      "x9   -20.8927     1.7311 -12.0690 0.0000    -24.2856   -17.4998\n",
      "x10  -20.6494     1.7727 -11.6488 0.0000    -24.1238   -17.1751\n",
      "x11  -20.8832     1.7725 -11.7820 0.0000    -24.3572   -17.4092\n",
      "x12    3.6286     2.1174   1.7137 0.0866     -0.5214     7.7787\n",
      "x13    0.9392  8683.6969   0.0001 0.9999 -17018.7939 17020.6723\n",
      "x14   -0.0538  8873.1596  -0.0000 1.0000 -17391.1269 17391.0194\n",
      "x15   -5.5007 10226.5812  -0.0005 0.9996 -20049.2316 20038.2301\n",
      "x16  -12.0961 12365.0772  -0.0010 0.9992 -24247.2021 24223.0100\n",
      "x17    0.0999     1.3198   0.0757 0.9397     -2.4868     2.6866\n",
      "x18   -0.5388     1.4438  -0.3732 0.7090     -3.3687     2.2910\n",
      "x19    0.9613     1.0746   0.8946 0.3710     -1.1448     3.0675\n",
      "x20   -0.0604     0.9495  -0.0636 0.9493     -1.9214     1.8006\n",
      "x21    1.3773  8599.2465   0.0002 0.9999 -16852.8361 16855.5907\n",
      "x22    1.7245  8527.9538   0.0002 0.9998 -16712.7578 16716.2068\n",
      "x23   -0.9229     1.5938  -0.5791 0.5625     -4.0466     2.2008\n",
      "x24   -0.1112     0.8676  -0.1282 0.8980     -1.8117     1.5892\n",
      "x25    0.4177     1.4966   0.2791 0.7802     -2.5155     3.3509\n",
      "x26   -0.2847     1.2787  -0.2227 0.8238     -2.7909     2.2215\n",
      "x27   -0.6893     1.3872  -0.4969 0.6192     -3.4081     2.0295\n",
      "x28   -1.7990 10545.0787  -0.0002 0.9999 -20669.7735 20666.1755\n",
      "x29    0.7138     1.3685   0.5216 0.6020     -1.9684     3.3960\n",
      "x30  -11.3673 11941.4286  -0.0010 0.9992 -23416.1374 23393.4027\n",
      "x31   -0.1650     1.3017  -0.1268 0.8991     -2.7162     2.3862\n",
      "x32   -4.6739    18.0507  -0.2589 0.7957    -40.0526    30.7048\n",
      "x33   -0.6980     1.2927  -0.5400 0.5892     -3.2317     1.8356\n",
      "x34   -0.1895     1.3228  -0.1433 0.8861     -2.7821     2.4030\n",
      "x35   -1.5068     1.3113  -1.1491 0.2505     -4.0768     1.0633\n",
      "x36   16.8002 13822.2180   0.0012 0.9990 -27074.2494 27107.8497\n",
      "x37    0.2085     1.2381   0.1684 0.8662     -2.2181     2.6352\n",
      "x38   -0.3345     1.3229  -0.2529 0.8004     -2.9274     2.2583\n",
      "x39   -0.0460     1.2375  -0.0372 0.9704     -2.4714     2.3794\n",
      "x40   -2.4493  9431.2541  -0.0003 0.9998 -18487.3677 18482.4691\n",
      "x41   -8.8374 11188.9491  -0.0008 0.9994 -21938.7747 21921.0999\n",
      "x42   -0.4415     1.0810  -0.4084 0.6830     -2.5602     1.6773\n",
      "x43   -0.4845  8994.3797  -0.0001 1.0000 -17629.1447 17628.1758\n",
      "x44   -5.0504 10080.0849  -0.0005 0.9996 -19761.6537 19751.5529\n",
      "x45    0.0228  8851.8017   0.0000 1.0000 -17349.1896 17349.2352\n",
      "x46   -1.5666  9222.0315  -0.0002 0.9999 -18076.4162 18073.2831\n",
      "x47    0.2355  8843.1616   0.0000 1.0000 -17332.0427 17332.5138\n",
      "x48    0.1008     1.2092   0.0834 0.9335     -2.2691     2.4708\n",
      "x49    0.3186  8821.6105   0.0000 1.0000 -17289.7203 17290.3575\n",
      "x50    0.5983     1.1405   0.5246 0.5999     -1.6370     2.8337\n",
      "===============================================================\n",
      "\n"
     ]
    },
    {
     "name": "stderr",
     "output_type": "stream",
     "text": [
      "/Users/swathikiran/anaconda3/lib/python3.6/site-packages/statsmodels/base/model.py:508: ConvergenceWarning: Maximum Likelihood optimization failed to converge. Check mle_retvals\n",
      "  \"Check mle_retvals\", ConvergenceWarning)\n"
     ]
    }
   ],
   "source": [
    "#Applying Logistic Regression model to identify the impacting variables using Maximum Liklehood and P-values\n",
    "import statsmodels.api as sm\n",
    "logit_model=sm.Logit(y,X)\n",
    "result=logit_model.fit()\n",
    "print(result.summary2())"
   ]
  },
  {
   "cell_type": "code",
   "execution_count": 29,
   "metadata": {},
   "outputs": [],
   "source": [
    "#None of the County varibales have any statistical significance\n",
    "#Also, Gender and 'Number of products held' are having the P-value > 0.05 , therefore those can be removed as well"
   ]
  },
  {
   "cell_type": "code",
   "execution_count": 30,
   "metadata": {},
   "outputs": [
    {
     "data": {
      "text/html": [
       "<div>\n",
       "<style scoped>\n",
       "    .dataframe tbody tr th:only-of-type {\n",
       "        vertical-align: middle;\n",
       "    }\n",
       "\n",
       "    .dataframe tbody tr th {\n",
       "        vertical-align: top;\n",
       "    }\n",
       "\n",
       "    .dataframe thead th {\n",
       "        text-align: right;\n",
       "    }\n",
       "</style>\n",
       "<table border=\"1\" class=\"dataframe\">\n",
       "  <thead>\n",
       "    <tr style=\"text-align: right;\">\n",
       "      <th></th>\n",
       "      <th>Loan Flag</th>\n",
       "      <th>Age</th>\n",
       "      <th>Gender</th>\n",
       "      <th>Average_CA_transaction_amount</th>\n",
       "      <th>No_of_products_held</th>\n",
       "      <th>Held Loan previously</th>\n",
       "      <th>Num Transactions</th>\n",
       "      <th>0-10000</th>\n",
       "      <th>100000+</th>\n",
       "      <th>10001-40000</th>\n",
       "      <th>...</th>\n",
       "      <th>offaly</th>\n",
       "      <th>portlaoise</th>\n",
       "      <th>rosslare</th>\n",
       "      <th>sandyford</th>\n",
       "      <th>sligo town</th>\n",
       "      <th>spain</th>\n",
       "      <th>tipperary</th>\n",
       "      <th>trim</th>\n",
       "      <th>waterford</th>\n",
       "      <th>wicklow</th>\n",
       "    </tr>\n",
       "  </thead>\n",
       "  <tbody>\n",
       "    <tr>\n",
       "      <th>0</th>\n",
       "      <td>0</td>\n",
       "      <td>36</td>\n",
       "      <td>1</td>\n",
       "      <td>58</td>\n",
       "      <td>4</td>\n",
       "      <td>1</td>\n",
       "      <td>0.0</td>\n",
       "      <td>0</td>\n",
       "      <td>0</td>\n",
       "      <td>1</td>\n",
       "      <td>...</td>\n",
       "      <td>0</td>\n",
       "      <td>0</td>\n",
       "      <td>0</td>\n",
       "      <td>0</td>\n",
       "      <td>0</td>\n",
       "      <td>0</td>\n",
       "      <td>0</td>\n",
       "      <td>0</td>\n",
       "      <td>0</td>\n",
       "      <td>0</td>\n",
       "    </tr>\n",
       "    <tr>\n",
       "      <th>1</th>\n",
       "      <td>0</td>\n",
       "      <td>43</td>\n",
       "      <td>1</td>\n",
       "      <td>2663</td>\n",
       "      <td>4</td>\n",
       "      <td>0</td>\n",
       "      <td>17.0</td>\n",
       "      <td>1</td>\n",
       "      <td>0</td>\n",
       "      <td>0</td>\n",
       "      <td>...</td>\n",
       "      <td>0</td>\n",
       "      <td>0</td>\n",
       "      <td>0</td>\n",
       "      <td>0</td>\n",
       "      <td>0</td>\n",
       "      <td>0</td>\n",
       "      <td>0</td>\n",
       "      <td>0</td>\n",
       "      <td>0</td>\n",
       "      <td>0</td>\n",
       "    </tr>\n",
       "    <tr>\n",
       "      <th>2</th>\n",
       "      <td>0</td>\n",
       "      <td>32</td>\n",
       "      <td>0</td>\n",
       "      <td>46</td>\n",
       "      <td>2</td>\n",
       "      <td>0</td>\n",
       "      <td>25.0</td>\n",
       "      <td>0</td>\n",
       "      <td>0</td>\n",
       "      <td>1</td>\n",
       "      <td>...</td>\n",
       "      <td>0</td>\n",
       "      <td>0</td>\n",
       "      <td>0</td>\n",
       "      <td>0</td>\n",
       "      <td>0</td>\n",
       "      <td>0</td>\n",
       "      <td>0</td>\n",
       "      <td>0</td>\n",
       "      <td>0</td>\n",
       "      <td>0</td>\n",
       "    </tr>\n",
       "    <tr>\n",
       "      <th>3</th>\n",
       "      <td>0</td>\n",
       "      <td>52</td>\n",
       "      <td>1</td>\n",
       "      <td>0</td>\n",
       "      <td>2</td>\n",
       "      <td>1</td>\n",
       "      <td>13.0</td>\n",
       "      <td>0</td>\n",
       "      <td>0</td>\n",
       "      <td>0</td>\n",
       "      <td>...</td>\n",
       "      <td>0</td>\n",
       "      <td>0</td>\n",
       "      <td>0</td>\n",
       "      <td>0</td>\n",
       "      <td>0</td>\n",
       "      <td>0</td>\n",
       "      <td>0</td>\n",
       "      <td>0</td>\n",
       "      <td>0</td>\n",
       "      <td>0</td>\n",
       "    </tr>\n",
       "    <tr>\n",
       "      <th>4</th>\n",
       "      <td>0</td>\n",
       "      <td>63</td>\n",
       "      <td>0</td>\n",
       "      <td>126</td>\n",
       "      <td>1</td>\n",
       "      <td>0</td>\n",
       "      <td>39.0</td>\n",
       "      <td>0</td>\n",
       "      <td>0</td>\n",
       "      <td>0</td>\n",
       "      <td>...</td>\n",
       "      <td>0</td>\n",
       "      <td>0</td>\n",
       "      <td>0</td>\n",
       "      <td>0</td>\n",
       "      <td>0</td>\n",
       "      <td>0</td>\n",
       "      <td>0</td>\n",
       "      <td>0</td>\n",
       "      <td>0</td>\n",
       "      <td>0</td>\n",
       "    </tr>\n",
       "  </tbody>\n",
       "</table>\n",
       "<p>5 rows × 52 columns</p>\n",
       "</div>"
      ],
      "text/plain": [
       "   Loan Flag  Age  Gender  Average_CA_transaction_amount  No_of_products_held  \\\n",
       "0          0   36       1                             58                    4   \n",
       "1          0   43       1                           2663                    4   \n",
       "2          0   32       0                             46                    2   \n",
       "3          0   52       1                              0                    2   \n",
       "4          0   63       0                            126                    1   \n",
       "\n",
       "   Held Loan previously  Num Transactions  0-10000  100000+  10001-40000  \\\n",
       "0                     1               0.0        0        0            1   \n",
       "1                     0              17.0        1        0            0   \n",
       "2                     0              25.0        0        0            1   \n",
       "3                     1              13.0        0        0            0   \n",
       "4                     0              39.0        0        0            0   \n",
       "\n",
       "    ...     offaly  portlaoise  rosslare  sandyford  sligo town  spain  \\\n",
       "0   ...          0           0         0          0           0      0   \n",
       "1   ...          0           0         0          0           0      0   \n",
       "2   ...          0           0         0          0           0      0   \n",
       "3   ...          0           0         0          0           0      0   \n",
       "4   ...          0           0         0          0           0      0   \n",
       "\n",
       "   tipperary  trim  waterford  wicklow  \n",
       "0          0     0          0        0  \n",
       "1          0     0          0        0  \n",
       "2          0     0          0        0  \n",
       "3          0     0          0        0  \n",
       "4          0     0          0        0  \n",
       "\n",
       "[5 rows x 52 columns]"
      ]
     },
     "execution_count": 30,
     "metadata": {},
     "output_type": "execute_result"
    }
   ],
   "source": [
    "#Reshaping the X variable\n",
    "ready_data.head()"
   ]
  },
  {
   "cell_type": "code",
   "execution_count": 31,
   "metadata": {},
   "outputs": [],
   "source": [
    "#Removing the unimpactful attributes\n",
    "ready_data.drop('Gender', axis = 1, inplace= True)\n",
    "ready_data.drop('No_of_products_held', axis = 1, inplace = True)"
   ]
  },
  {
   "cell_type": "code",
   "execution_count": 32,
   "metadata": {},
   "outputs": [
    {
     "data": {
      "text/html": [
       "<div>\n",
       "<style scoped>\n",
       "    .dataframe tbody tr th:only-of-type {\n",
       "        vertical-align: middle;\n",
       "    }\n",
       "\n",
       "    .dataframe tbody tr th {\n",
       "        vertical-align: top;\n",
       "    }\n",
       "\n",
       "    .dataframe thead th {\n",
       "        text-align: right;\n",
       "    }\n",
       "</style>\n",
       "<table border=\"1\" class=\"dataframe\">\n",
       "  <thead>\n",
       "    <tr style=\"text-align: right;\">\n",
       "      <th></th>\n",
       "      <th>Loan Flag</th>\n",
       "      <th>Age</th>\n",
       "      <th>Average_CA_transaction_amount</th>\n",
       "      <th>Held Loan previously</th>\n",
       "      <th>Num Transactions</th>\n",
       "      <th>0-10000</th>\n",
       "      <th>100000+</th>\n",
       "      <th>10001-40000</th>\n",
       "      <th>40001-60000</th>\n",
       "      <th>60001-100000</th>\n",
       "      <th>...</th>\n",
       "      <th>offaly</th>\n",
       "      <th>portlaoise</th>\n",
       "      <th>rosslare</th>\n",
       "      <th>sandyford</th>\n",
       "      <th>sligo town</th>\n",
       "      <th>spain</th>\n",
       "      <th>tipperary</th>\n",
       "      <th>trim</th>\n",
       "      <th>waterford</th>\n",
       "      <th>wicklow</th>\n",
       "    </tr>\n",
       "  </thead>\n",
       "  <tbody>\n",
       "    <tr>\n",
       "      <th>0</th>\n",
       "      <td>0</td>\n",
       "      <td>36</td>\n",
       "      <td>58</td>\n",
       "      <td>1</td>\n",
       "      <td>0.0</td>\n",
       "      <td>0</td>\n",
       "      <td>0</td>\n",
       "      <td>1</td>\n",
       "      <td>0</td>\n",
       "      <td>0</td>\n",
       "      <td>...</td>\n",
       "      <td>0</td>\n",
       "      <td>0</td>\n",
       "      <td>0</td>\n",
       "      <td>0</td>\n",
       "      <td>0</td>\n",
       "      <td>0</td>\n",
       "      <td>0</td>\n",
       "      <td>0</td>\n",
       "      <td>0</td>\n",
       "      <td>0</td>\n",
       "    </tr>\n",
       "    <tr>\n",
       "      <th>1</th>\n",
       "      <td>0</td>\n",
       "      <td>43</td>\n",
       "      <td>2663</td>\n",
       "      <td>0</td>\n",
       "      <td>17.0</td>\n",
       "      <td>1</td>\n",
       "      <td>0</td>\n",
       "      <td>0</td>\n",
       "      <td>0</td>\n",
       "      <td>0</td>\n",
       "      <td>...</td>\n",
       "      <td>0</td>\n",
       "      <td>0</td>\n",
       "      <td>0</td>\n",
       "      <td>0</td>\n",
       "      <td>0</td>\n",
       "      <td>0</td>\n",
       "      <td>0</td>\n",
       "      <td>0</td>\n",
       "      <td>0</td>\n",
       "      <td>0</td>\n",
       "    </tr>\n",
       "    <tr>\n",
       "      <th>2</th>\n",
       "      <td>0</td>\n",
       "      <td>32</td>\n",
       "      <td>46</td>\n",
       "      <td>0</td>\n",
       "      <td>25.0</td>\n",
       "      <td>0</td>\n",
       "      <td>0</td>\n",
       "      <td>1</td>\n",
       "      <td>0</td>\n",
       "      <td>0</td>\n",
       "      <td>...</td>\n",
       "      <td>0</td>\n",
       "      <td>0</td>\n",
       "      <td>0</td>\n",
       "      <td>0</td>\n",
       "      <td>0</td>\n",
       "      <td>0</td>\n",
       "      <td>0</td>\n",
       "      <td>0</td>\n",
       "      <td>0</td>\n",
       "      <td>0</td>\n",
       "    </tr>\n",
       "    <tr>\n",
       "      <th>3</th>\n",
       "      <td>0</td>\n",
       "      <td>52</td>\n",
       "      <td>0</td>\n",
       "      <td>1</td>\n",
       "      <td>13.0</td>\n",
       "      <td>0</td>\n",
       "      <td>0</td>\n",
       "      <td>0</td>\n",
       "      <td>1</td>\n",
       "      <td>0</td>\n",
       "      <td>...</td>\n",
       "      <td>0</td>\n",
       "      <td>0</td>\n",
       "      <td>0</td>\n",
       "      <td>0</td>\n",
       "      <td>0</td>\n",
       "      <td>0</td>\n",
       "      <td>0</td>\n",
       "      <td>0</td>\n",
       "      <td>0</td>\n",
       "      <td>0</td>\n",
       "    </tr>\n",
       "    <tr>\n",
       "      <th>4</th>\n",
       "      <td>0</td>\n",
       "      <td>63</td>\n",
       "      <td>126</td>\n",
       "      <td>0</td>\n",
       "      <td>39.0</td>\n",
       "      <td>0</td>\n",
       "      <td>0</td>\n",
       "      <td>0</td>\n",
       "      <td>0</td>\n",
       "      <td>1</td>\n",
       "      <td>...</td>\n",
       "      <td>0</td>\n",
       "      <td>0</td>\n",
       "      <td>0</td>\n",
       "      <td>0</td>\n",
       "      <td>0</td>\n",
       "      <td>0</td>\n",
       "      <td>0</td>\n",
       "      <td>0</td>\n",
       "      <td>0</td>\n",
       "      <td>0</td>\n",
       "    </tr>\n",
       "  </tbody>\n",
       "</table>\n",
       "<p>5 rows × 50 columns</p>\n",
       "</div>"
      ],
      "text/plain": [
       "   Loan Flag  Age  Average_CA_transaction_amount  Held Loan previously  \\\n",
       "0          0   36                             58                     1   \n",
       "1          0   43                           2663                     0   \n",
       "2          0   32                             46                     0   \n",
       "3          0   52                              0                     1   \n",
       "4          0   63                            126                     0   \n",
       "\n",
       "   Num Transactions  0-10000  100000+  10001-40000  40001-60000  60001-100000  \\\n",
       "0               0.0        0        0            1            0             0   \n",
       "1              17.0        1        0            0            0             0   \n",
       "2              25.0        0        0            1            0             0   \n",
       "3              13.0        0        0            0            1             0   \n",
       "4              39.0        0        0            0            0             1   \n",
       "\n",
       "    ...     offaly  portlaoise  rosslare  sandyford  sligo town  spain  \\\n",
       "0   ...          0           0         0          0           0      0   \n",
       "1   ...          0           0         0          0           0      0   \n",
       "2   ...          0           0         0          0           0      0   \n",
       "3   ...          0           0         0          0           0      0   \n",
       "4   ...          0           0         0          0           0      0   \n",
       "\n",
       "   tipperary  trim  waterford  wicklow  \n",
       "0          0     0          0        0  \n",
       "1          0     0          0        0  \n",
       "2          0     0          0        0  \n",
       "3          0     0          0        0  \n",
       "4          0     0          0        0  \n",
       "\n",
       "[5 rows x 50 columns]"
      ]
     },
     "execution_count": 32,
     "metadata": {},
     "output_type": "execute_result"
    }
   ],
   "source": [
    "ready_data.head()"
   ]
  },
  {
   "cell_type": "code",
   "execution_count": 33,
   "metadata": {},
   "outputs": [
    {
     "data": {
      "text/plain": [
       "(10000, 50)"
      ]
     },
     "execution_count": 33,
     "metadata": {},
     "output_type": "execute_result"
    }
   ],
   "source": [
    "ready_data.shape"
   ]
  },
  {
   "cell_type": "code",
   "execution_count": 34,
   "metadata": {},
   "outputs": [],
   "source": [
    "#Removing the county variable columns as well\n",
    "X = ready_data.iloc[:, 1:10 ].values"
   ]
  },
  {
   "cell_type": "code",
   "execution_count": 35,
   "metadata": {},
   "outputs": [
    {
     "data": {
      "text/plain": [
       "array([36., 58.,  1.,  0.,  0.,  0.,  1.,  0.,  0.])"
      ]
     },
     "execution_count": 35,
     "metadata": {},
     "output_type": "execute_result"
    }
   ],
   "source": [
    "X[0]"
   ]
  },
  {
   "cell_type": "code",
   "execution_count": 36,
   "metadata": {},
   "outputs": [
    {
     "name": "stdout",
     "output_type": "stream",
     "text": [
      "Optimization terminated successfully.\n",
      "         Current function value: 0.019270\n",
      "         Iterations 13\n",
      "                        Results: Logit\n",
      "===============================================================\n",
      "Model:              Logit            Pseudo R-squared: 0.812   \n",
      "Dependent Variable: y                AIC:              403.4069\n",
      "Date:               2020-04-10 16:09 BIC:              468.3000\n",
      "No. Observations:   10000            Log-Likelihood:   -192.70 \n",
      "Df Model:           8                LL-Null:          -1022.9 \n",
      "Df Residuals:       9991             LLR p-value:      0.0000  \n",
      "Converged:          1.0000           Scale:            1.0000  \n",
      "No. Iterations:     13.0000                                    \n",
      "----------------------------------------------------------------\n",
      "         Coef.    Std.Err.     z      P>|z|    [0.025    0.975] \n",
      "----------------------------------------------------------------\n",
      "x1        0.0477    0.0093    5.1222  0.0000    0.0295    0.0660\n",
      "x2        0.0028    0.0002   13.4527  0.0000    0.0024    0.0032\n",
      "x3        6.8997    0.5447   12.6679  0.0000    5.8322    7.9672\n",
      "x4        0.1497    0.0104   14.4573  0.0000    0.1294    0.1700\n",
      "x5      -21.6079    1.6350  -13.2159  0.0000  -24.8124  -18.4034\n",
      "x6      -21.1927    1.5058  -14.0740  0.0000  -24.1440  -18.2414\n",
      "x7      -21.2490    1.4640  -14.5141  0.0000  -24.1185  -18.3796\n",
      "x8      -21.0235    1.4960  -14.0535  0.0000  -23.9555  -18.0914\n",
      "x9      -21.2200    1.4859  -14.2811  0.0000  -24.1323  -18.3078\n",
      "===============================================================\n",
      "\n"
     ]
    }
   ],
   "source": [
    "#Applying Logistic Regression model again with less variables\n",
    "import statsmodels.api as sm\n",
    "logit_model=sm.Logit(y,X)\n",
    "result=logit_model.fit()\n",
    "print(result.summary2())"
   ]
  },
  {
   "cell_type": "code",
   "execution_count": 37,
   "metadata": {},
   "outputs": [
    {
     "data": {
      "text/plain": [
       "'#Applying Logistic Regression model on much compact variables\\nimport statsmodels.api as sm\\nlogit_model=sm.Logit(y,X)\\nresult=logit_model.fit()\\nprint(result.summary2())'"
      ]
     },
     "execution_count": 37,
     "metadata": {},
     "output_type": "execute_result"
    }
   ],
   "source": [
    "#Removing the Income Group variables as well as they have high standard error\n",
    "#X = ready_data.iloc[:, 1:5 ].values\n",
    "\"\"\"#Applying Logistic Regression model on much compact variables\n",
    "import statsmodels.api as sm\n",
    "logit_model=sm.Logit(y,X)\n",
    "result=logit_model.fit()\n",
    "print(result.summary2())\"\"\"\n",
    "#Improved pseudo R-Squared value can be seen decreased"
   ]
  },
  {
   "cell_type": "code",
   "execution_count": 38,
   "metadata": {},
   "outputs": [],
   "source": [
    "#Visualising the class variables (y =0 | 1)"
   ]
  },
  {
   "cell_type": "code",
   "execution_count": 39,
   "metadata": {},
   "outputs": [
    {
     "data": {
      "text/plain": [
       "Text(0,0.5,'Average_CA_transaction_amount')"
      ]
     },
     "execution_count": 39,
     "metadata": {},
     "output_type": "execute_result"
    },
    {
     "data": {
      "image/png": "[encoded data removed]",
      "text/plain": [
       "<Figure size 432x288 with 1 Axes>"
      ]
     },
     "metadata": {},
     "output_type": "display_data"
    }
   ],
   "source": [
    "#Visualising the data in form of number of cases in each class(Loan Flag)\n",
    "plt.scatter(ready_data['Age'], ready_data['Average_CA_transaction_amount'],\n",
    "            alpha=0.5, c=ready_data[\"Loan Flag\"], cmap='viridis', label = np.unique(ready_data[\"Loan Flag\"]))\n",
    "plt.xlabel(\"Age\")\n",
    "plt.ylabel(\"Average_CA_transaction_amount\")"
   ]
  },
  {
   "cell_type": "code",
   "execution_count": 40,
   "metadata": {},
   "outputs": [],
   "source": [
    "#This is a biased datatset, therefore, need to apply over sampling for balancing the classes"
   ]
  },
  {
   "cell_type": "code",
   "execution_count": 41,
   "metadata": {},
   "outputs": [
    {
     "name": "stderr",
     "output_type": "stream",
     "text": [
      "/Users/swathikiran/anaconda3/lib/python3.6/site-packages/sklearn/externals/six.py:31: FutureWarning: The module is deprecated in version 0.21 and will be removed in version 0.23 since we've dropped support for Python 2.7. Please rely on the official version of six (https://pypi.org/project/six/).\n",
      "  \"(https://pypi.org/project/six/).\", FutureWarning)\n",
      "/Users/swathikiran/anaconda3/lib/python3.6/site-packages/sklearn/utils/deprecation.py:144: FutureWarning: The sklearn.neighbors.base module is  deprecated in version 0.22 and will be removed in version 0.24. The corresponding classes / functions should instead be imported from sklearn.neighbors. Anything that cannot be imported from sklearn.neighbors is now part of the private API.\n",
      "  warnings.warn(message, FutureWarning)\n",
      "/Users/swathikiran/anaconda3/lib/python3.6/site-packages/sklearn/externals/joblib/__init__.py:15: FutureWarning: sklearn.externals.joblib is deprecated in 0.21 and will be removed in 0.23. Please import this functionality directly from joblib, which can be installed with: pip install joblib. If this warning is raised when loading pickled models, you may need to re-serialize those models with scikit-learn 0.21+.\n",
      "  warnings.warn(msg, category=FutureWarning)\n",
      "/Users/swathikiran/anaconda3/lib/python3.6/site-packages/sklearn/utils/validation.py:760: DataConversionWarning: A column-vector y was passed when a 1d array was expected. Please change the shape of y to (n_samples, ), for example using ravel().\n",
      "  y = column_or_1d(y, warn=True)\n",
      "/Users/swathikiran/anaconda3/lib/python3.6/site-packages/sklearn/utils/validation.py:760: DataConversionWarning: A column-vector y was passed when a 1d array was expected. Please change the shape of y to (n_samples, ), for example using ravel().\n",
      "  y = column_or_1d(y, warn=True)\n",
      "/Users/swathikiran/anaconda3/lib/python3.6/site-packages/sklearn/utils/deprecation.py:87: FutureWarning: Function safe_indexing is deprecated; safe_indexing is deprecated in version 0.22 and will be removed in version 0.24.\n",
      "  warnings.warn(msg, category=FutureWarning)\n"
     ]
    }
   ],
   "source": [
    "#Applying oversampling technique using Synthetic Minority Oversampling Technique\n",
    "from collections import Counter\n",
    "from sklearn.datasets import make_classification\n",
    "from imblearn.over_sampling import SMOTE\n",
    "oversample = SMOTE()\n",
    "X_new, y_new = oversample.fit_sample(X, y)"
   ]
  },
  {
   "cell_type": "code",
   "execution_count": 42,
   "metadata": {},
   "outputs": [
    {
     "data": {
      "text/plain": [
       "(19578, 9)"
      ]
     },
     "execution_count": 42,
     "metadata": {},
     "output_type": "execute_result"
    }
   ],
   "source": [
    "X_new.shape"
   ]
  },
  {
   "cell_type": "code",
   "execution_count": 43,
   "metadata": {},
   "outputs": [
    {
     "data": {
      "text/plain": [
       "Text(0,0.5,'Average_CA_transaction_amount')"
      ]
     },
     "execution_count": 43,
     "metadata": {},
     "output_type": "execute_result"
    },
    {
     "data": {
      "image/png": "[encoded data removed]",
      "text/plain": [
       "<Figure size 432x288 with 1 Axes>"
      ]
     },
     "metadata": {},
     "output_type": "display_data"
    }
   ],
   "source": [
    "#Visualising the the classes after over sampling the minority class\"\"\"\n",
    "plt.scatter(X_new[:,0], X_new[:,1],\n",
    "            alpha=0.5, c=y_new, cmap='viridis', label = np.unique(ready_data[\"Loan Flag\"]))\n",
    "plt.xlabel(\"Age\")\n",
    "plt.ylabel(\"Average_CA_transaction_amount\")"
   ]
  },
  {
   "cell_type": "code",
   "execution_count": 44,
   "metadata": {},
   "outputs": [
    {
     "data": {
      "text/plain": [
       "(19578,)"
      ]
     },
     "execution_count": 44,
     "metadata": {},
     "output_type": "execute_result"
    }
   ],
   "source": [
    "y_new.shape"
   ]
  },
  {
   "cell_type": "code",
   "execution_count": 45,
   "metadata": {},
   "outputs": [
    {
     "name": "stdout",
     "output_type": "stream",
     "text": [
      "Optimization terminated successfully.\n",
      "         Current function value: 0.097505\n",
      "         Iterations 9\n",
      "                         Results: Logit\n",
      "================================================================\n",
      "Model:              Logit            Pseudo R-squared: 0.859    \n",
      "Dependent Variable: y                AIC:              3835.9031\n",
      "Date:               2020-04-10 16:09 BIC:              3906.8426\n",
      "No. Observations:   19578            Log-Likelihood:   -1909.0  \n",
      "Df Model:           8                LL-Null:          -13570.  \n",
      "Df Residuals:       19569            LLR p-value:      0.0000   \n",
      "Converged:          1.0000           Scale:            1.0000   \n",
      "No. Iterations:     9.0000                                      \n",
      "------------------------------------------------------------------\n",
      "      Coef.     Std.Err.      z       P>|z|     [0.025     0.975] \n",
      "------------------------------------------------------------------\n",
      "x1     0.0243     0.0031     7.8006   0.0000     0.0182     0.0303\n",
      "x2     0.0019     0.0000    41.0095   0.0000     0.0018     0.0020\n",
      "x3     4.1628     0.1099    37.8777   0.0000     3.9474     4.3782\n",
      "x4     0.1019     0.0020    51.7864   0.0000     0.0981     0.1058\n",
      "x5   -11.4354     0.3581   -31.9365   0.0000   -12.1372   -10.7336\n",
      "x6   -11.4739     0.3023   -37.9509   0.0000   -12.0665   -10.8813\n",
      "x7   -10.8972     0.2509   -43.4346   0.0000   -11.3889   -10.4055\n",
      "x8   -10.8450     0.2850   -38.0472   0.0000   -11.4037   -10.2863\n",
      "x9   -11.0957     0.2783   -39.8738   0.0000   -11.6411   -10.5503\n",
      "================================================================\n",
      "\n"
     ]
    }
   ],
   "source": [
    "#Applying ststs model to identify the impacting variables after balancing the classes\n",
    "import statsmodels.api as sm\n",
    "logit_model=sm.Logit(y_new,X_new)\n",
    "result=logit_model.fit()\n",
    "print(result.summary2())"
   ]
  },
  {
   "cell_type": "markdown",
   "metadata": {},
   "source": [
    "<h2>Modelling</h2>"
   ]
  },
  {
   "cell_type": "code",
   "execution_count": 46,
   "metadata": {},
   "outputs": [
    {
     "data": {
      "text/plain": [
       "(19578, 9)"
      ]
     },
     "execution_count": 46,
     "metadata": {},
     "output_type": "execute_result"
    }
   ],
   "source": [
    "#Independent variables after oversampling\n",
    "X_new.shape"
   ]
  },
  {
   "cell_type": "code",
   "execution_count": 47,
   "metadata": {},
   "outputs": [
    {
     "data": {
      "text/plain": [
       "(19578,)"
      ]
     },
     "execution_count": 47,
     "metadata": {},
     "output_type": "execute_result"
    }
   ],
   "source": [
    "#Dependent variables after oversampling\n",
    "y_new.shape"
   ]
  },
  {
   "cell_type": "code",
   "execution_count": 48,
   "metadata": {},
   "outputs": [],
   "source": [
    "from sklearn.model_selection import train_test_split\n",
    "from sklearn.metrics import confusion_matrix\n",
    "from sklearn.metrics import classification_report\n",
    "X_train, X_test, y_train, y_test = train_test_split(X_new, y_new, test_size=0.3, random_state=0)"
   ]
  },
  {
   "cell_type": "code",
   "execution_count": 49,
   "metadata": {},
   "outputs": [
    {
     "name": "stdout",
     "output_type": "stream",
     "text": [
      "Accuracy of logistic regression classifier on test set: 0.97\n",
      "[[2820  107]\n",
      " [  79 2868]]\n",
      "              precision    recall  f1-score   support\n",
      "\n",
      "           0       0.97      0.96      0.97      2927\n",
      "           1       0.96      0.97      0.97      2947\n",
      "\n",
      "    accuracy                           0.97      5874\n",
      "   macro avg       0.97      0.97      0.97      5874\n",
      "weighted avg       0.97      0.97      0.97      5874\n",
      "\n"
     ]
    },
    {
     "name": "stderr",
     "output_type": "stream",
     "text": [
      "/Users/swathikiran/anaconda3/lib/python3.6/site-packages/sklearn/linear_model/_logistic.py:940: ConvergenceWarning: lbfgs failed to converge (status=1):\n",
      "STOP: TOTAL NO. of ITERATIONS REACHED LIMIT.\n",
      "\n",
      "Increase the number of iterations (max_iter) or scale the data as shown in:\n",
      "    https://scikit-learn.org/stable/modules/preprocessing.html\n",
      "Please also refer to the documentation for alternative solver options:\n",
      "    https://scikit-learn.org/stable/modules/linear_model.html#logistic-regression\n",
      "  extra_warning_msg=_LOGISTIC_SOLVER_CONVERGENCE_MSG)\n"
     ]
    }
   ],
   "source": [
    "#Using Logistic Regression Classifer\n",
    "\n",
    "from sklearn.linear_model import LogisticRegression\n",
    "logistic_regressor = LogisticRegression()\n",
    "logistic_regressor.fit(X_train, y_train)\n",
    "y_pred = logistic_regressor.predict(X_test)\n",
    "print('Accuracy of logistic regression classifier on test set: {:.2f}'.format(logistic_regressor.score(X_test, y_test)))\n",
    "from sklearn.metrics import confusion_matrix\n",
    "confusion_matrix = confusion_matrix(y_test, y_pred)\n",
    "print(confusion_matrix)\n",
    "from sklearn.metrics import classification_report\n",
    "print(classification_report(y_test, y_pred))"
   ]
  },
  {
   "cell_type": "code",
   "execution_count": 50,
   "metadata": {},
   "outputs": [
    {
     "name": "stdout",
     "output_type": "stream",
     "text": [
      "Accuracy of Decision Tree classifier on test set: 0.99\n",
      "[[2899   28]\n",
      " [   9 2938]]\n",
      "              precision    recall  f1-score   support\n",
      "\n",
      "           0       1.00      0.99      0.99      2927\n",
      "           1       0.99      1.00      0.99      2947\n",
      "\n",
      "    accuracy                           0.99      5874\n",
      "   macro avg       0.99      0.99      0.99      5874\n",
      "weighted avg       0.99      0.99      0.99      5874\n",
      "\n"
     ]
    }
   ],
   "source": [
    "#Using Decision Tree Classifer\n",
    "\n",
    "from sklearn.tree import DecisionTreeClassifier\n",
    "dt = DecisionTreeClassifier()\n",
    "dt.fit(X_train, y_train)\n",
    "y_pred = dt.predict(X_test)\n",
    "print('Accuracy of Decision Tree classifier on test set: {:.2f}'.format(dt.score(X_test, y_test)))\n",
    "from sklearn.metrics import confusion_matrix\n",
    "confusion_matrix = confusion_matrix(y_test, y_pred)\n",
    "print(confusion_matrix)\n",
    "print(classification_report(y_test, y_pred))"
   ]
  },
  {
   "cell_type": "code",
   "execution_count": 51,
   "metadata": {},
   "outputs": [
    {
     "name": "stdout",
     "output_type": "stream",
     "text": [
      "Accuracy of Knn classifier on test set: 0.97\n",
      "[[2797  130]\n",
      " [  18 2929]]\n",
      "              precision    recall  f1-score   support\n",
      "\n",
      "           0       0.99      0.96      0.97      2927\n",
      "           1       0.96      0.99      0.98      2947\n",
      "\n",
      "    accuracy                           0.97      5874\n",
      "   macro avg       0.98      0.97      0.97      5874\n",
      "weighted avg       0.98      0.97      0.97      5874\n",
      "\n"
     ]
    }
   ],
   "source": [
    "#Using KNN Classifer\n",
    "\n",
    "from sklearn.neighbors import KNeighborsClassifier\n",
    "knn = KNeighborsClassifier(n_neighbors=3)\n",
    "knn.fit(X_train, y_train)\n",
    "y_pred = knn.predict(X_test)\n",
    "print('Accuracy of Knn classifier on test set: {:.2f}'.format(knn.score(X_test, y_test)))\n",
    "from sklearn.metrics import confusion_matrix\n",
    "confusion_matrix = confusion_matrix(y_test, y_pred)\n",
    "print(confusion_matrix)\n",
    "from sklearn.metrics import classification_report\n",
    "print(classification_report(y_test, y_pred))"
   ]
  },
  {
   "cell_type": "code",
   "execution_count": 52,
   "metadata": {},
   "outputs": [
    {
     "name": "stdout",
     "output_type": "stream",
     "text": [
      "Accuracy of Support Vector classifier on test set: 0.94\n",
      "[[2896   31]\n",
      " [ 339 2608]]\n",
      "              precision    recall  f1-score   support\n",
      "\n",
      "           0       0.90      0.99      0.94      2927\n",
      "           1       0.99      0.88      0.93      2947\n",
      "\n",
      "    accuracy                           0.94      5874\n",
      "   macro avg       0.94      0.94      0.94      5874\n",
      "weighted avg       0.94      0.94      0.94      5874\n",
      "\n"
     ]
    }
   ],
   "source": [
    "#Using Support Vector Classifer\n",
    "\n",
    "from sklearn.svm import SVC\n",
    "svm_classifier = SVC(gamma='auto')\n",
    "svm_classifier.fit(X_train, y_train)\n",
    "y_pred = svm_classifier.predict(X_test)\n",
    "print('Accuracy of Support Vector classifier on test set: {:.2f}'.format(svm_classifier.score(X_test, y_test)))\n",
    "from sklearn.metrics import confusion_matrix\n",
    "confusion_matrix = confusion_matrix(y_test, y_pred)\n",
    "print(confusion_matrix)\n",
    "from sklearn.metrics import classification_report\n",
    "print(classification_report(y_test, y_pred))"
   ]
  },
  {
   "cell_type": "markdown",
   "metadata": {},
   "source": [
    "<h3>Decision Tree classifier gave the better scores</h3>"
   ]
  },
  {
   "cell_type": "code",
   "execution_count": 53,
   "metadata": {},
   "outputs": [],
   "source": [
    "#Plotting the ROC Curve"
   ]
  },
  {
   "cell_type": "code",
   "execution_count": 54,
   "metadata": {},
   "outputs": [],
   "source": [
    "#Need to reshape for applying the stats model\n",
    "y_test = y_test.reshape(-1,1)\n",
    "y_pred = y_pred.reshape(-1,1)"
   ]
  },
  {
   "cell_type": "code",
   "execution_count": 55,
   "metadata": {},
   "outputs": [
    {
     "data": {
      "text/plain": [
       "(5874, 1)"
      ]
     },
     "execution_count": 55,
     "metadata": {},
     "output_type": "execute_result"
    }
   ],
   "source": [
    "y_test.shape"
   ]
  },
  {
   "cell_type": "code",
   "execution_count": 56,
   "metadata": {},
   "outputs": [
    {
     "data": {
      "text/plain": [
       "(5874, 1)"
      ]
     },
     "execution_count": 56,
     "metadata": {},
     "output_type": "execute_result"
    }
   ],
   "source": [
    "y_pred.shape"
   ]
  },
  {
   "cell_type": "code",
   "execution_count": 57,
   "metadata": {},
   "outputs": [
    {
     "data": {
      "image/png": "[encoded data removed]",
      "text/plain": [
       "<Figure size 432x288 with 1 Axes>"
      ]
     },
     "metadata": {},
     "output_type": "display_data"
    }
   ],
   "source": [
    "from sklearn.metrics import plot_roc_curve\n",
    "ax = plt.gca()\n",
    "rfc_disp = plot_roc_curve(dt, X_test, y_test, ax=ax, alpha=0.8)\n",
    "rfc_disp = plot_roc_curve(svm_classifier, X_test, y_test, ax=ax, alpha=0.8)\n",
    "rfc_disp = plot_roc_curve(knn, X_test, y_test, ax=ax, alpha=0.8)\n",
    "rfc_disp = plot_roc_curve(logistic_regressor, X_test, y_test, ax=ax, alpha=0.8)\n",
    "plt.show()"
   ]
  },
  {
   "cell_type": "code",
   "execution_count": null,
   "metadata": {},
   "outputs": [],
   "source": []
  },
  {
   "cell_type": "markdown",
   "metadata": {},
   "source": [
    "<h2>Training the entire dataset for final Classifier</h2>"
   ]
  },
  {
   "cell_type": "code",
   "execution_count": 58,
   "metadata": {},
   "outputs": [],
   "source": [
    "#Training Final classifier with full data, to predict the new test set provided"
   ]
  },
  {
   "cell_type": "code",
   "execution_count": 59,
   "metadata": {},
   "outputs": [],
   "source": [
    "#Getting the testset data ready for testing"
   ]
  },
  {
   "cell_type": "code",
   "execution_count": 60,
   "metadata": {},
   "outputs": [],
   "source": [
    "test_df = pd.read_csv(\"Test_Sample/test_mergedData.csv\",encoding='latin1')"
   ]
  },
  {
   "cell_type": "code",
   "execution_count": 61,
   "metadata": {},
   "outputs": [
    {
     "data": {
      "text/html": [
       "<div>\n",
       "<style scoped>\n",
       "    .dataframe tbody tr th:only-of-type {\n",
       "        vertical-align: middle;\n",
       "    }\n",
       "\n",
       "    .dataframe tbody tr th {\n",
       "        vertical-align: top;\n",
       "    }\n",
       "\n",
       "    .dataframe thead th {\n",
       "        text-align: right;\n",
       "    }\n",
       "</style>\n",
       "<table border=\"1\" class=\"dataframe\">\n",
       "  <thead>\n",
       "    <tr style=\"text-align: right;\">\n",
       "      <th></th>\n",
       "      <th>Client ID</th>\n",
       "      <th>Age</th>\n",
       "      <th>Gender</th>\n",
       "      <th>County</th>\n",
       "      <th>Income Group</th>\n",
       "      <th>Average amount of CA transaction</th>\n",
       "      <th># Products in bank</th>\n",
       "      <th>Held Loan previously</th>\n",
       "      <th>Num Transactions</th>\n",
       "      <th>Last TXN Amount</th>\n",
       "      <th>Merchant Code</th>\n",
       "      <th>Last Transaction Narrative</th>\n",
       "    </tr>\n",
       "  </thead>\n",
       "  <tbody>\n",
       "    <tr>\n",
       "      <th>0</th>\n",
       "      <td>10001</td>\n",
       "      <td>59</td>\n",
       "      <td>1</td>\n",
       "      <td>Cork</td>\n",
       "      <td>10001 - 40000</td>\n",
       "      <td>22</td>\n",
       "      <td>4</td>\n",
       "      <td>0</td>\n",
       "      <td>2</td>\n",
       "      <td>12.59</td>\n",
       "      <td>7375</td>\n",
       "      <td>MYWHEELS IE              DUBLIN 2</td>\n",
       "    </tr>\n",
       "    <tr>\n",
       "      <th>1</th>\n",
       "      <td>10002</td>\n",
       "      <td>27</td>\n",
       "      <td>1</td>\n",
       "      <td>Kerry</td>\n",
       "      <td>10001 - 40000</td>\n",
       "      <td>11</td>\n",
       "      <td>4</td>\n",
       "      <td>0</td>\n",
       "      <td>0</td>\n",
       "      <td>30.00</td>\n",
       "      <td>7531</td>\n",
       "      <td>MAXOL/MACE BRENNAN'S     NEWBRIDGE</td>\n",
       "    </tr>\n",
       "    <tr>\n",
       "      <th>2</th>\n",
       "      <td>10003</td>\n",
       "      <td>58</td>\n",
       "      <td>0</td>\n",
       "      <td>Louth</td>\n",
       "      <td>10001 - 40000</td>\n",
       "      <td>9</td>\n",
       "      <td>2</td>\n",
       "      <td>0</td>\n",
       "      <td>28</td>\n",
       "      <td>1003.01</td>\n",
       "      <td>5533</td>\n",
       "      <td>Finglas Autoparts Limit  Dublin</td>\n",
       "    </tr>\n",
       "    <tr>\n",
       "      <th>3</th>\n",
       "      <td>10004</td>\n",
       "      <td>45</td>\n",
       "      <td>1</td>\n",
       "      <td>Dublin</td>\n",
       "      <td>60001 - 100000</td>\n",
       "      <td>34</td>\n",
       "      <td>2</td>\n",
       "      <td>0</td>\n",
       "      <td>31</td>\n",
       "      <td>873.25</td>\n",
       "      <td>3692</td>\n",
       "      <td>DOUBLETREE               CHELSEA</td>\n",
       "    </tr>\n",
       "    <tr>\n",
       "      <th>4</th>\n",
       "      <td>10005</td>\n",
       "      <td>21</td>\n",
       "      <td>0</td>\n",
       "      <td>Dublin</td>\n",
       "      <td>40001 - 60000</td>\n",
       "      <td>38</td>\n",
       "      <td>1</td>\n",
       "      <td>0</td>\n",
       "      <td>12</td>\n",
       "      <td>926.75</td>\n",
       "      <td>3659</td>\n",
       "      <td>TAJ HOTELS INTERNATIONAL Aurangabad</td>\n",
       "    </tr>\n",
       "  </tbody>\n",
       "</table>\n",
       "</div>"
      ],
      "text/plain": [
       "   Client ID  Age  Gender  County    Income Group  \\\n",
       "0      10001   59       1    Cork   10001 - 40000   \n",
       "1      10002   27       1   Kerry   10001 - 40000   \n",
       "2      10003   58       0   Louth   10001 - 40000   \n",
       "3      10004   45       1  Dublin  60001 - 100000   \n",
       "4      10005   21       0  Dublin   40001 - 60000   \n",
       "\n",
       "   Average amount of CA transaction  # Products in bank  Held Loan previously  \\\n",
       "0                                22                   4                     0   \n",
       "1                                11                   4                     0   \n",
       "2                                 9                   2                     0   \n",
       "3                                34                   2                     0   \n",
       "4                                38                   1                     0   \n",
       "\n",
       "   Num Transactions  Last TXN Amount  Merchant Code  \\\n",
       "0                 2            12.59           7375   \n",
       "1                 0            30.00           7531   \n",
       "2                28          1003.01           5533   \n",
       "3                31           873.25           3692   \n",
       "4                12           926.75           3659   \n",
       "\n",
       "            Last Transaction Narrative  \n",
       "0    MYWHEELS IE              DUBLIN 2  \n",
       "1   MAXOL/MACE BRENNAN'S     NEWBRIDGE  \n",
       "2      Finglas Autoparts Limit  Dublin  \n",
       "3     DOUBLETREE               CHELSEA  \n",
       "4  TAJ HOTELS INTERNATIONAL Aurangabad  "
      ]
     },
     "execution_count": 61,
     "metadata": {},
     "output_type": "execute_result"
    }
   ],
   "source": [
    "test_df.head()"
   ]
  },
  {
   "cell_type": "code",
   "execution_count": 62,
   "metadata": {},
   "outputs": [],
   "source": [
    "test_df.drop(['Last TXN Amount','Merchant Code','Last Transaction Narrative'], axis =1, inplace=True)\n",
    "test_df.drop(['Gender','County', '# Products in bank'], axis =1, inplace=True)"
   ]
  },
  {
   "cell_type": "code",
   "execution_count": 63,
   "metadata": {},
   "outputs": [
    {
     "data": {
      "text/html": [
       "<div>\n",
       "<style scoped>\n",
       "    .dataframe tbody tr th:only-of-type {\n",
       "        vertical-align: middle;\n",
       "    }\n",
       "\n",
       "    .dataframe tbody tr th {\n",
       "        vertical-align: top;\n",
       "    }\n",
       "\n",
       "    .dataframe thead th {\n",
       "        text-align: right;\n",
       "    }\n",
       "</style>\n",
       "<table border=\"1\" class=\"dataframe\">\n",
       "  <thead>\n",
       "    <tr style=\"text-align: right;\">\n",
       "      <th></th>\n",
       "      <th>Client ID</th>\n",
       "      <th>Age</th>\n",
       "      <th>Income Group</th>\n",
       "      <th>Average amount of CA transaction</th>\n",
       "      <th>Held Loan previously</th>\n",
       "      <th>Num Transactions</th>\n",
       "    </tr>\n",
       "  </thead>\n",
       "  <tbody>\n",
       "    <tr>\n",
       "      <th>0</th>\n",
       "      <td>10001</td>\n",
       "      <td>59</td>\n",
       "      <td>10001 - 40000</td>\n",
       "      <td>22</td>\n",
       "      <td>0</td>\n",
       "      <td>2</td>\n",
       "    </tr>\n",
       "    <tr>\n",
       "      <th>1</th>\n",
       "      <td>10002</td>\n",
       "      <td>27</td>\n",
       "      <td>10001 - 40000</td>\n",
       "      <td>11</td>\n",
       "      <td>0</td>\n",
       "      <td>0</td>\n",
       "    </tr>\n",
       "    <tr>\n",
       "      <th>2</th>\n",
       "      <td>10003</td>\n",
       "      <td>58</td>\n",
       "      <td>10001 - 40000</td>\n",
       "      <td>9</td>\n",
       "      <td>0</td>\n",
       "      <td>28</td>\n",
       "    </tr>\n",
       "    <tr>\n",
       "      <th>3</th>\n",
       "      <td>10004</td>\n",
       "      <td>45</td>\n",
       "      <td>60001 - 100000</td>\n",
       "      <td>34</td>\n",
       "      <td>0</td>\n",
       "      <td>31</td>\n",
       "    </tr>\n",
       "    <tr>\n",
       "      <th>4</th>\n",
       "      <td>10005</td>\n",
       "      <td>21</td>\n",
       "      <td>40001 - 60000</td>\n",
       "      <td>38</td>\n",
       "      <td>0</td>\n",
       "      <td>12</td>\n",
       "    </tr>\n",
       "  </tbody>\n",
       "</table>\n",
       "</div>"
      ],
      "text/plain": [
       "   Client ID  Age    Income Group  Average amount of CA transaction  \\\n",
       "0      10001   59   10001 - 40000                                22   \n",
       "1      10002   27   10001 - 40000                                11   \n",
       "2      10003   58   10001 - 40000                                 9   \n",
       "3      10004   45  60001 - 100000                                34   \n",
       "4      10005   21   40001 - 60000                                38   \n",
       "\n",
       "   Held Loan previously  Num Transactions  \n",
       "0                     0                 2  \n",
       "1                     0                 0  \n",
       "2                     0                28  \n",
       "3                     0                31  \n",
       "4                     0                12  "
      ]
     },
     "execution_count": 63,
     "metadata": {},
     "output_type": "execute_result"
    }
   ],
   "source": [
    "test_df.head()"
   ]
  },
  {
   "cell_type": "code",
   "execution_count": 64,
   "metadata": {},
   "outputs": [],
   "source": [
    "#Creating the dummy variables for the county column\n",
    "dummy_variables = pd.get_dummies(test_df['Income Group'])\n",
    "test_df = pd.concat([test_df,dummy_variables], axis=1)"
   ]
  },
  {
   "cell_type": "code",
   "execution_count": 65,
   "metadata": {},
   "outputs": [],
   "source": [
    "test_df.drop('Income Group', axis =1, inplace=True)"
   ]
  },
  {
   "cell_type": "code",
   "execution_count": 66,
   "metadata": {},
   "outputs": [
    {
     "data": {
      "text/html": [
       "<div>\n",
       "<style scoped>\n",
       "    .dataframe tbody tr th:only-of-type {\n",
       "        vertical-align: middle;\n",
       "    }\n",
       "\n",
       "    .dataframe tbody tr th {\n",
       "        vertical-align: top;\n",
       "    }\n",
       "\n",
       "    .dataframe thead th {\n",
       "        text-align: right;\n",
       "    }\n",
       "</style>\n",
       "<table border=\"1\" class=\"dataframe\">\n",
       "  <thead>\n",
       "    <tr style=\"text-align: right;\">\n",
       "      <th></th>\n",
       "      <th>Client ID</th>\n",
       "      <th>Age</th>\n",
       "      <th>Average amount of CA transaction</th>\n",
       "      <th>Held Loan previously</th>\n",
       "      <th>Num Transactions</th>\n",
       "      <th>0 - 10000</th>\n",
       "      <th>100000+</th>\n",
       "      <th>10001 - 40000</th>\n",
       "      <th>40001 - 60000</th>\n",
       "      <th>60001 - 100000</th>\n",
       "    </tr>\n",
       "  </thead>\n",
       "  <tbody>\n",
       "    <tr>\n",
       "      <th>0</th>\n",
       "      <td>10001</td>\n",
       "      <td>59</td>\n",
       "      <td>22</td>\n",
       "      <td>0</td>\n",
       "      <td>2</td>\n",
       "      <td>0</td>\n",
       "      <td>0</td>\n",
       "      <td>1</td>\n",
       "      <td>0</td>\n",
       "      <td>0</td>\n",
       "    </tr>\n",
       "    <tr>\n",
       "      <th>1</th>\n",
       "      <td>10002</td>\n",
       "      <td>27</td>\n",
       "      <td>11</td>\n",
       "      <td>0</td>\n",
       "      <td>0</td>\n",
       "      <td>0</td>\n",
       "      <td>0</td>\n",
       "      <td>1</td>\n",
       "      <td>0</td>\n",
       "      <td>0</td>\n",
       "    </tr>\n",
       "    <tr>\n",
       "      <th>2</th>\n",
       "      <td>10003</td>\n",
       "      <td>58</td>\n",
       "      <td>9</td>\n",
       "      <td>0</td>\n",
       "      <td>28</td>\n",
       "      <td>0</td>\n",
       "      <td>0</td>\n",
       "      <td>1</td>\n",
       "      <td>0</td>\n",
       "      <td>0</td>\n",
       "    </tr>\n",
       "    <tr>\n",
       "      <th>3</th>\n",
       "      <td>10004</td>\n",
       "      <td>45</td>\n",
       "      <td>34</td>\n",
       "      <td>0</td>\n",
       "      <td>31</td>\n",
       "      <td>0</td>\n",
       "      <td>0</td>\n",
       "      <td>0</td>\n",
       "      <td>0</td>\n",
       "      <td>1</td>\n",
       "    </tr>\n",
       "    <tr>\n",
       "      <th>4</th>\n",
       "      <td>10005</td>\n",
       "      <td>21</td>\n",
       "      <td>38</td>\n",
       "      <td>0</td>\n",
       "      <td>12</td>\n",
       "      <td>0</td>\n",
       "      <td>0</td>\n",
       "      <td>0</td>\n",
       "      <td>1</td>\n",
       "      <td>0</td>\n",
       "    </tr>\n",
       "  </tbody>\n",
       "</table>\n",
       "</div>"
      ],
      "text/plain": [
       "   Client ID  Age  Average amount of CA transaction  Held Loan previously  \\\n",
       "0      10001   59                                22                     0   \n",
       "1      10002   27                                11                     0   \n",
       "2      10003   58                                 9                     0   \n",
       "3      10004   45                                34                     0   \n",
       "4      10005   21                                38                     0   \n",
       "\n",
       "   Num Transactions  0 - 10000  100000+  10001 - 40000  40001 - 60000  \\\n",
       "0                 2          0        0              1              0   \n",
       "1                 0          0        0              1              0   \n",
       "2                28          0        0              1              0   \n",
       "3                31          0        0              0              0   \n",
       "4                12          0        0              0              1   \n",
       "\n",
       "   60001 - 100000  \n",
       "0               0  \n",
       "1               0  \n",
       "2               0  \n",
       "3               1  \n",
       "4               0  "
      ]
     },
     "execution_count": 66,
     "metadata": {},
     "output_type": "execute_result"
    }
   ],
   "source": [
    "test_df.head()"
   ]
  },
  {
   "cell_type": "code",
   "execution_count": 67,
   "metadata": {},
   "outputs": [
    {
     "data": {
      "text/plain": [
       "(2000, 10)"
      ]
     },
     "execution_count": 67,
     "metadata": {},
     "output_type": "execute_result"
    }
   ],
   "source": [
    "test_df.shape"
   ]
  },
  {
   "cell_type": "code",
   "execution_count": 68,
   "metadata": {},
   "outputs": [],
   "source": [
    "#Assigning the indepedent variables to the final test set\n",
    "X_testset = test_df.iloc[:, 1:10 ].values"
   ]
  },
  {
   "cell_type": "code",
   "execution_count": 69,
   "metadata": {},
   "outputs": [
    {
     "data": {
      "text/plain": [
       "array([59, 22,  0,  2,  0,  0,  1,  0,  0])"
      ]
     },
     "execution_count": 69,
     "metadata": {},
     "output_type": "execute_result"
    }
   ],
   "source": [
    "X_testset[0]"
   ]
  },
  {
   "cell_type": "code",
   "execution_count": 70,
   "metadata": {},
   "outputs": [
    {
     "data": {
      "text/plain": [
       "(19578, 9)"
      ]
     },
     "execution_count": 70,
     "metadata": {},
     "output_type": "execute_result"
    }
   ],
   "source": [
    "#Independent variables from the full data (inclusive synthetic data)\n",
    "X_new.shape"
   ]
  },
  {
   "cell_type": "code",
   "execution_count": 71,
   "metadata": {},
   "outputs": [
    {
     "data": {
      "text/plain": [
       "(19578,)"
      ]
     },
     "execution_count": 71,
     "metadata": {},
     "output_type": "execute_result"
    }
   ],
   "source": [
    "y_new.shape"
   ]
  },
  {
   "cell_type": "markdown",
   "metadata": {},
   "source": [
    "<h3>Using Logistic Regression for prediction as we need to estimate the Maximum likelihood as well</h3>"
   ]
  },
  {
   "cell_type": "code",
   "execution_count": 72,
   "metadata": {},
   "outputs": [
    {
     "name": "stderr",
     "output_type": "stream",
     "text": [
      "/Users/swathikiran/anaconda3/lib/python3.6/site-packages/sklearn/linear_model/_logistic.py:940: ConvergenceWarning: lbfgs failed to converge (status=1):\n",
      "STOP: TOTAL NO. of ITERATIONS REACHED LIMIT.\n",
      "\n",
      "Increase the number of iterations (max_iter) or scale the data as shown in:\n",
      "    https://scikit-learn.org/stable/modules/preprocessing.html\n",
      "Please also refer to the documentation for alternative solver options:\n",
      "    https://scikit-learn.org/stable/modules/linear_model.html#logistic-regression\n",
      "  extra_warning_msg=_LOGISTIC_SOLVER_CONVERGENCE_MSG)\n"
     ]
    }
   ],
   "source": [
    "#Using Logistic Regression Classifer as final predictor\n",
    "\n",
    "from sklearn.linear_model import LogisticRegression\n",
    "logistic_regressor = LogisticRegression()\n",
    "logistic_regressor.fit(X_new, y_new)\n",
    "loan_flag_pred = logistic_regressor.predict(X_testset)"
   ]
  },
  {
   "cell_type": "code",
   "execution_count": 73,
   "metadata": {},
   "outputs": [],
   "source": [
    "#Calculating the probabilities of each entry being in class 0 or class 1\n",
    "loan_probabilities = logistic_regressor.predict_proba(X_testset)"
   ]
  },
  {
   "cell_type": "code",
   "execution_count": 74,
   "metadata": {},
   "outputs": [],
   "source": [
    "#Creating new dataframe to store the results\n",
    "likelihood_calculation = pd.DataFrame(data = loan_probabilities[0:,0:], columns = {\"probability_of_1\",\"probability_of_0\"})"
   ]
  },
  {
   "cell_type": "code",
   "execution_count": 75,
   "metadata": {},
   "outputs": [],
   "source": [
    "#Adding predictions to the new dataframe\n",
    "likelihood_calculation[\"predicted_Loan_flag\"] = loan_flag_pred"
   ]
  },
  {
   "cell_type": "code",
   "execution_count": 76,
   "metadata": {},
   "outputs": [
    {
     "data": {
      "text/html": [
       "<div>\n",
       "<style scoped>\n",
       "    .dataframe tbody tr th:only-of-type {\n",
       "        vertical-align: middle;\n",
       "    }\n",
       "\n",
       "    .dataframe tbody tr th {\n",
       "        vertical-align: top;\n",
       "    }\n",
       "\n",
       "    .dataframe thead th {\n",
       "        text-align: right;\n",
       "    }\n",
       "</style>\n",
       "<table border=\"1\" class=\"dataframe\">\n",
       "  <thead>\n",
       "    <tr style=\"text-align: right;\">\n",
       "      <th></th>\n",
       "      <th>probability_of_1</th>\n",
       "      <th>probability_of_0</th>\n",
       "      <th>predicted_Loan_flag</th>\n",
       "    </tr>\n",
       "  </thead>\n",
       "  <tbody>\n",
       "    <tr>\n",
       "      <th>count</th>\n",
       "      <td>2000.000000</td>\n",
       "      <td>2000.000000</td>\n",
       "      <td>2000.000000</td>\n",
       "    </tr>\n",
       "    <tr>\n",
       "      <th>mean</th>\n",
       "      <td>0.873142</td>\n",
       "      <td>0.126858</td>\n",
       "      <td>0.111500</td>\n",
       "    </tr>\n",
       "    <tr>\n",
       "      <th>std</th>\n",
       "      <td>0.267636</td>\n",
       "      <td>0.267636</td>\n",
       "      <td>0.314829</td>\n",
       "    </tr>\n",
       "    <tr>\n",
       "      <th>min</th>\n",
       "      <td>0.000092</td>\n",
       "      <td>0.000028</td>\n",
       "      <td>0.000000</td>\n",
       "    </tr>\n",
       "    <tr>\n",
       "      <th>25%</th>\n",
       "      <td>0.943115</td>\n",
       "      <td>0.000559</td>\n",
       "      <td>0.000000</td>\n",
       "    </tr>\n",
       "    <tr>\n",
       "      <th>50%</th>\n",
       "      <td>0.994954</td>\n",
       "      <td>0.005046</td>\n",
       "      <td>0.000000</td>\n",
       "    </tr>\n",
       "    <tr>\n",
       "      <th>75%</th>\n",
       "      <td>0.999441</td>\n",
       "      <td>0.056885</td>\n",
       "      <td>0.000000</td>\n",
       "    </tr>\n",
       "    <tr>\n",
       "      <th>max</th>\n",
       "      <td>0.999972</td>\n",
       "      <td>0.999908</td>\n",
       "      <td>1.000000</td>\n",
       "    </tr>\n",
       "  </tbody>\n",
       "</table>\n",
       "</div>"
      ],
      "text/plain": [
       "       probability_of_1  probability_of_0  predicted_Loan_flag\n",
       "count       2000.000000       2000.000000          2000.000000\n",
       "mean           0.873142          0.126858             0.111500\n",
       "std            0.267636          0.267636             0.314829\n",
       "min            0.000092          0.000028             0.000000\n",
       "25%            0.943115          0.000559             0.000000\n",
       "50%            0.994954          0.005046             0.000000\n",
       "75%            0.999441          0.056885             0.000000\n",
       "max            0.999972          0.999908             1.000000"
      ]
     },
     "execution_count": 76,
     "metadata": {},
     "output_type": "execute_result"
    }
   ],
   "source": [
    "likelihood_calculation.describe()"
   ]
  },
  {
   "cell_type": "code",
   "execution_count": 77,
   "metadata": {},
   "outputs": [
    {
     "data": {
      "text/plain": [
       "0    1777\n",
       "1     223\n",
       "Name: predicted_Loan_flag, dtype: int64"
      ]
     },
     "execution_count": 77,
     "metadata": {},
     "output_type": "execute_result"
    }
   ],
   "source": [
    "#Number of outcomes for each class(0 or 1)\n",
    "likelihood_calculation['predicted_Loan_flag'].value_counts()"
   ]
  },
  {
   "cell_type": "code",
   "execution_count": 78,
   "metadata": {},
   "outputs": [
    {
     "data": {
      "text/html": [
       "<div>\n",
       "<style scoped>\n",
       "    .dataframe tbody tr th:only-of-type {\n",
       "        vertical-align: middle;\n",
       "    }\n",
       "\n",
       "    .dataframe tbody tr th {\n",
       "        vertical-align: top;\n",
       "    }\n",
       "\n",
       "    .dataframe thead th {\n",
       "        text-align: right;\n",
       "    }\n",
       "</style>\n",
       "<table border=\"1\" class=\"dataframe\">\n",
       "  <thead>\n",
       "    <tr style=\"text-align: right;\">\n",
       "      <th></th>\n",
       "      <th>probability_of_1</th>\n",
       "      <th>probability_of_0</th>\n",
       "      <th>predicted_Loan_flag</th>\n",
       "    </tr>\n",
       "  </thead>\n",
       "  <tbody>\n",
       "    <tr>\n",
       "      <th>0</th>\n",
       "      <td>0.999885</td>\n",
       "      <td>0.000115</td>\n",
       "      <td>0</td>\n",
       "    </tr>\n",
       "    <tr>\n",
       "      <th>1</th>\n",
       "      <td>0.999959</td>\n",
       "      <td>0.000041</td>\n",
       "      <td>0</td>\n",
       "    </tr>\n",
       "    <tr>\n",
       "      <th>2</th>\n",
       "      <td>0.998482</td>\n",
       "      <td>0.001518</td>\n",
       "      <td>0</td>\n",
       "    </tr>\n",
       "    <tr>\n",
       "      <th>3</th>\n",
       "      <td>0.999011</td>\n",
       "      <td>0.000989</td>\n",
       "      <td>0</td>\n",
       "    </tr>\n",
       "    <tr>\n",
       "      <th>4</th>\n",
       "      <td>0.999880</td>\n",
       "      <td>0.000120</td>\n",
       "      <td>0</td>\n",
       "    </tr>\n",
       "  </tbody>\n",
       "</table>\n",
       "</div>"
      ],
      "text/plain": [
       "   probability_of_1  probability_of_0  predicted_Loan_flag\n",
       "0          0.999885          0.000115                    0\n",
       "1          0.999959          0.000041                    0\n",
       "2          0.998482          0.001518                    0\n",
       "3          0.999011          0.000989                    0\n",
       "4          0.999880          0.000120                    0"
      ]
     },
     "execution_count": 78,
     "metadata": {},
     "output_type": "execute_result"
    }
   ],
   "source": [
    "likelihood_calculation.head()"
   ]
  },
  {
   "cell_type": "code",
   "execution_count": 79,
   "metadata": {},
   "outputs": [],
   "source": [
    "#Adding client ID to the new dataframe for reference\n",
    "likelihood_calculation [\"Client ID\"] = test_df [\"Client ID\"]"
   ]
  },
  {
   "cell_type": "code",
   "execution_count": 80,
   "metadata": {},
   "outputs": [],
   "source": [
    "#Rearranging the dataframe\n",
    "likelihood_calculation = likelihood_calculation[[\"Client ID\",\"predicted_Loan_flag\",\"probability_of_1\" ]]"
   ]
  },
  {
   "cell_type": "code",
   "execution_count": 81,
   "metadata": {},
   "outputs": [],
   "source": [
    "#Multiplyong the probablity with 100 for percentage\n",
    "likelihood_calculation[\"probability_of_1\"] = likelihood_calculation[\"probability_of_1\"]*100"
   ]
  },
  {
   "cell_type": "code",
   "execution_count": 82,
   "metadata": {},
   "outputs": [
    {
     "data": {
      "text/html": [
       "<div>\n",
       "<style scoped>\n",
       "    .dataframe tbody tr th:only-of-type {\n",
       "        vertical-align: middle;\n",
       "    }\n",
       "\n",
       "    .dataframe tbody tr th {\n",
       "        vertical-align: top;\n",
       "    }\n",
       "\n",
       "    .dataframe thead th {\n",
       "        text-align: right;\n",
       "    }\n",
       "</style>\n",
       "<table border=\"1\" class=\"dataframe\">\n",
       "  <thead>\n",
       "    <tr style=\"text-align: right;\">\n",
       "      <th></th>\n",
       "      <th>Client ID</th>\n",
       "      <th>predicted_Loan_flag</th>\n",
       "      <th>probability_of_1</th>\n",
       "    </tr>\n",
       "  </thead>\n",
       "  <tbody>\n",
       "    <tr>\n",
       "      <th>0</th>\n",
       "      <td>10001</td>\n",
       "      <td>0</td>\n",
       "      <td>99.988540</td>\n",
       "    </tr>\n",
       "    <tr>\n",
       "      <th>1</th>\n",
       "      <td>10002</td>\n",
       "      <td>0</td>\n",
       "      <td>99.995851</td>\n",
       "    </tr>\n",
       "    <tr>\n",
       "      <th>2</th>\n",
       "      <td>10003</td>\n",
       "      <td>0</td>\n",
       "      <td>99.848227</td>\n",
       "    </tr>\n",
       "    <tr>\n",
       "      <th>3</th>\n",
       "      <td>10004</td>\n",
       "      <td>0</td>\n",
       "      <td>99.901085</td>\n",
       "    </tr>\n",
       "    <tr>\n",
       "      <th>4</th>\n",
       "      <td>10005</td>\n",
       "      <td>0</td>\n",
       "      <td>99.988016</td>\n",
       "    </tr>\n",
       "  </tbody>\n",
       "</table>\n",
       "</div>"
      ],
      "text/plain": [
       "   Client ID  predicted_Loan_flag  probability_of_1\n",
       "0      10001                    0         99.988540\n",
       "1      10002                    0         99.995851\n",
       "2      10003                    0         99.848227\n",
       "3      10004                    0         99.901085\n",
       "4      10005                    0         99.988016"
      ]
     },
     "execution_count": 82,
     "metadata": {},
     "output_type": "execute_result"
    }
   ],
   "source": [
    "likelihood_calculation.head()"
   ]
  },
  {
   "cell_type": "code",
   "execution_count": 83,
   "metadata": {},
   "outputs": [
    {
     "data": {
      "text/html": [
       "<div>\n",
       "<style scoped>\n",
       "    .dataframe tbody tr th:only-of-type {\n",
       "        vertical-align: middle;\n",
       "    }\n",
       "\n",
       "    .dataframe tbody tr th {\n",
       "        vertical-align: top;\n",
       "    }\n",
       "\n",
       "    .dataframe thead th {\n",
       "        text-align: right;\n",
       "    }\n",
       "</style>\n",
       "<table border=\"1\" class=\"dataframe\">\n",
       "  <thead>\n",
       "    <tr style=\"text-align: right;\">\n",
       "      <th></th>\n",
       "      <th>Client ID</th>\n",
       "      <th>predicted_Loan_flag</th>\n",
       "      <th>probability_of_1</th>\n",
       "    </tr>\n",
       "  </thead>\n",
       "  <tbody>\n",
       "    <tr>\n",
       "      <th>count</th>\n",
       "      <td>2000.000000</td>\n",
       "      <td>2000.000000</td>\n",
       "      <td>2000.000000</td>\n",
       "    </tr>\n",
       "    <tr>\n",
       "      <th>mean</th>\n",
       "      <td>11000.500000</td>\n",
       "      <td>0.111500</td>\n",
       "      <td>87.314183</td>\n",
       "    </tr>\n",
       "    <tr>\n",
       "      <th>std</th>\n",
       "      <td>577.494589</td>\n",
       "      <td>0.314829</td>\n",
       "      <td>26.763593</td>\n",
       "    </tr>\n",
       "    <tr>\n",
       "      <th>min</th>\n",
       "      <td>10001.000000</td>\n",
       "      <td>0.000000</td>\n",
       "      <td>0.009214</td>\n",
       "    </tr>\n",
       "    <tr>\n",
       "      <th>25%</th>\n",
       "      <td>10500.750000</td>\n",
       "      <td>0.000000</td>\n",
       "      <td>94.311535</td>\n",
       "    </tr>\n",
       "    <tr>\n",
       "      <th>50%</th>\n",
       "      <td>11000.500000</td>\n",
       "      <td>0.000000</td>\n",
       "      <td>99.495405</td>\n",
       "    </tr>\n",
       "    <tr>\n",
       "      <th>75%</th>\n",
       "      <td>11500.250000</td>\n",
       "      <td>0.000000</td>\n",
       "      <td>99.944100</td>\n",
       "    </tr>\n",
       "    <tr>\n",
       "      <th>max</th>\n",
       "      <td>12000.000000</td>\n",
       "      <td>1.000000</td>\n",
       "      <td>99.997218</td>\n",
       "    </tr>\n",
       "  </tbody>\n",
       "</table>\n",
       "</div>"
      ],
      "text/plain": [
       "          Client ID  predicted_Loan_flag  probability_of_1\n",
       "count   2000.000000          2000.000000       2000.000000\n",
       "mean   11000.500000             0.111500         87.314183\n",
       "std      577.494589             0.314829         26.763593\n",
       "min    10001.000000             0.000000          0.009214\n",
       "25%    10500.750000             0.000000         94.311535\n",
       "50%    11000.500000             0.000000         99.495405\n",
       "75%    11500.250000             0.000000         99.944100\n",
       "max    12000.000000             1.000000         99.997218"
      ]
     },
     "execution_count": 83,
     "metadata": {},
     "output_type": "execute_result"
    }
   ],
   "source": [
    "likelihood_calculation.describe()"
   ]
  },
  {
   "cell_type": "code",
   "execution_count": 84,
   "metadata": {},
   "outputs": [],
   "source": [
    "#calculating the Bins for likelihood calculation\n",
    "bins = [0,5, 10,40,60, 100]\n",
    "likelihood_calculation['Bins'] = pd.cut(likelihood_calculation['probability_of_1'], bins)"
   ]
  },
  {
   "cell_type": "code",
   "execution_count": 85,
   "metadata": {},
   "outputs": [
    {
     "data": {
      "text/html": [
       "<div>\n",
       "<style scoped>\n",
       "    .dataframe tbody tr th:only-of-type {\n",
       "        vertical-align: middle;\n",
       "    }\n",
       "\n",
       "    .dataframe tbody tr th {\n",
       "        vertical-align: top;\n",
       "    }\n",
       "\n",
       "    .dataframe thead th {\n",
       "        text-align: right;\n",
       "    }\n",
       "</style>\n",
       "<table border=\"1\" class=\"dataframe\">\n",
       "  <thead>\n",
       "    <tr style=\"text-align: right;\">\n",
       "      <th></th>\n",
       "      <th>Client ID</th>\n",
       "      <th>predicted_Loan_flag</th>\n",
       "      <th>probability_of_1</th>\n",
       "    </tr>\n",
       "    <tr>\n",
       "      <th>Bins</th>\n",
       "      <th></th>\n",
       "      <th></th>\n",
       "      <th></th>\n",
       "    </tr>\n",
       "  </thead>\n",
       "  <tbody>\n",
       "    <tr>\n",
       "      <th>(0, 5]</th>\n",
       "      <td>74</td>\n",
       "      <td>74</td>\n",
       "      <td>74</td>\n",
       "    </tr>\n",
       "    <tr>\n",
       "      <th>(5, 10]</th>\n",
       "      <td>33</td>\n",
       "      <td>33</td>\n",
       "      <td>33</td>\n",
       "    </tr>\n",
       "    <tr>\n",
       "      <th>(10, 40]</th>\n",
       "      <td>79</td>\n",
       "      <td>79</td>\n",
       "      <td>79</td>\n",
       "    </tr>\n",
       "    <tr>\n",
       "      <th>(40, 60]</th>\n",
       "      <td>71</td>\n",
       "      <td>71</td>\n",
       "      <td>71</td>\n",
       "    </tr>\n",
       "    <tr>\n",
       "      <th>(60, 100]</th>\n",
       "      <td>1743</td>\n",
       "      <td>1743</td>\n",
       "      <td>1743</td>\n",
       "    </tr>\n",
       "  </tbody>\n",
       "</table>\n",
       "</div>"
      ],
      "text/plain": [
       "           Client ID  predicted_Loan_flag  probability_of_1\n",
       "Bins                                                       \n",
       "(0, 5]            74                   74                74\n",
       "(5, 10]           33                   33                33\n",
       "(10, 40]          79                   79                79\n",
       "(40, 60]          71                   71                71\n",
       "(60, 100]       1743                 1743              1743"
      ]
     },
     "execution_count": 85,
     "metadata": {},
     "output_type": "execute_result"
    }
   ],
   "source": [
    "#Number of elements for each Bin\n",
    "likelihood_calculation.groupby(\"Bins\").count()"
   ]
  },
  {
   "cell_type": "code",
   "execution_count": 86,
   "metadata": {},
   "outputs": [],
   "source": [
    "#Creating a column for describing the likelihood\n",
    "for val in likelihood_calculation[\"probability_of_1\"]:\n",
    "    if val <= 5:\n",
    "        likelihood_calculation[\"Likelihood\"] = \"Very Low Likelihood\"\n",
    "    elif 5 < val <= 10:\n",
    "        likelihood_calculation[\"Likelihood\"] = \"Low Likelihood\"\n",
    "    elif 10 < val <= 40:\n",
    "        likelihood_calculation[\"Likelihood\"] = \"Medium Likelihood\"\n",
    "    elif 40 < val <= 60:\n",
    "        likelihood_calculation[\"Likelihood\"] = \"High Likelihood\"\n",
    "    else:\n",
    "        likelihood_calculation[\"Likelihood\"] = \"Very High Likelihood\"\n",
    "        "
   ]
  },
  {
   "cell_type": "code",
   "execution_count": 87,
   "metadata": {},
   "outputs": [
    {
     "data": {
      "text/html": [
       "<div>\n",
       "<style scoped>\n",
       "    .dataframe tbody tr th:only-of-type {\n",
       "        vertical-align: middle;\n",
       "    }\n",
       "\n",
       "    .dataframe tbody tr th {\n",
       "        vertical-align: top;\n",
       "    }\n",
       "\n",
       "    .dataframe thead th {\n",
       "        text-align: right;\n",
       "    }\n",
       "</style>\n",
       "<table border=\"1\" class=\"dataframe\">\n",
       "  <thead>\n",
       "    <tr style=\"text-align: right;\">\n",
       "      <th></th>\n",
       "      <th>Client ID</th>\n",
       "      <th>predicted_Loan_flag</th>\n",
       "      <th>probability_of_1</th>\n",
       "      <th>Bins</th>\n",
       "      <th>Likelihood</th>\n",
       "    </tr>\n",
       "  </thead>\n",
       "  <tbody>\n",
       "    <tr>\n",
       "      <th>0</th>\n",
       "      <td>10001</td>\n",
       "      <td>0</td>\n",
       "      <td>99.988540</td>\n",
       "      <td>(60, 100]</td>\n",
       "      <td>Very High Likelihood</td>\n",
       "    </tr>\n",
       "    <tr>\n",
       "      <th>1</th>\n",
       "      <td>10002</td>\n",
       "      <td>0</td>\n",
       "      <td>99.995851</td>\n",
       "      <td>(60, 100]</td>\n",
       "      <td>Very High Likelihood</td>\n",
       "    </tr>\n",
       "    <tr>\n",
       "      <th>2</th>\n",
       "      <td>10003</td>\n",
       "      <td>0</td>\n",
       "      <td>99.848227</td>\n",
       "      <td>(60, 100]</td>\n",
       "      <td>Very High Likelihood</td>\n",
       "    </tr>\n",
       "    <tr>\n",
       "      <th>3</th>\n",
       "      <td>10004</td>\n",
       "      <td>0</td>\n",
       "      <td>99.901085</td>\n",
       "      <td>(60, 100]</td>\n",
       "      <td>Very High Likelihood</td>\n",
       "    </tr>\n",
       "    <tr>\n",
       "      <th>4</th>\n",
       "      <td>10005</td>\n",
       "      <td>0</td>\n",
       "      <td>99.988016</td>\n",
       "      <td>(60, 100]</td>\n",
       "      <td>Very High Likelihood</td>\n",
       "    </tr>\n",
       "  </tbody>\n",
       "</table>\n",
       "</div>"
      ],
      "text/plain": [
       "   Client ID  predicted_Loan_flag  probability_of_1       Bins  \\\n",
       "0      10001                    0         99.988540  (60, 100]   \n",
       "1      10002                    0         99.995851  (60, 100]   \n",
       "2      10003                    0         99.848227  (60, 100]   \n",
       "3      10004                    0         99.901085  (60, 100]   \n",
       "4      10005                    0         99.988016  (60, 100]   \n",
       "\n",
       "             Likelihood  \n",
       "0  Very High Likelihood  \n",
       "1  Very High Likelihood  \n",
       "2  Very High Likelihood  \n",
       "3  Very High Likelihood  \n",
       "4  Very High Likelihood  "
      ]
     },
     "execution_count": 87,
     "metadata": {},
     "output_type": "execute_result"
    }
   ],
   "source": [
    "likelihood_calculation.head()"
   ]
  },
  {
   "cell_type": "code",
   "execution_count": 88,
   "metadata": {},
   "outputs": [],
   "source": [
    "#Removing the Bins Column\n",
    "likelihood_calculation.drop([\"Bins\"], axis =1, inplace= True)"
   ]
  },
  {
   "cell_type": "code",
   "execution_count": 89,
   "metadata": {},
   "outputs": [
    {
     "data": {
      "text/html": [
       "<div>\n",
       "<style scoped>\n",
       "    .dataframe tbody tr th:only-of-type {\n",
       "        vertical-align: middle;\n",
       "    }\n",
       "\n",
       "    .dataframe tbody tr th {\n",
       "        vertical-align: top;\n",
       "    }\n",
       "\n",
       "    .dataframe thead th {\n",
       "        text-align: right;\n",
       "    }\n",
       "</style>\n",
       "<table border=\"1\" class=\"dataframe\">\n",
       "  <thead>\n",
       "    <tr style=\"text-align: right;\">\n",
       "      <th></th>\n",
       "      <th>Client ID</th>\n",
       "      <th>predicted_Loan_flag</th>\n",
       "      <th>probability_of_1</th>\n",
       "      <th>Likelihood</th>\n",
       "    </tr>\n",
       "  </thead>\n",
       "  <tbody>\n",
       "    <tr>\n",
       "      <th>0</th>\n",
       "      <td>10001</td>\n",
       "      <td>0</td>\n",
       "      <td>99.988540</td>\n",
       "      <td>Very High Likelihood</td>\n",
       "    </tr>\n",
       "    <tr>\n",
       "      <th>1</th>\n",
       "      <td>10002</td>\n",
       "      <td>0</td>\n",
       "      <td>99.995851</td>\n",
       "      <td>Very High Likelihood</td>\n",
       "    </tr>\n",
       "    <tr>\n",
       "      <th>2</th>\n",
       "      <td>10003</td>\n",
       "      <td>0</td>\n",
       "      <td>99.848227</td>\n",
       "      <td>Very High Likelihood</td>\n",
       "    </tr>\n",
       "    <tr>\n",
       "      <th>3</th>\n",
       "      <td>10004</td>\n",
       "      <td>0</td>\n",
       "      <td>99.901085</td>\n",
       "      <td>Very High Likelihood</td>\n",
       "    </tr>\n",
       "    <tr>\n",
       "      <th>4</th>\n",
       "      <td>10005</td>\n",
       "      <td>0</td>\n",
       "      <td>99.988016</td>\n",
       "      <td>Very High Likelihood</td>\n",
       "    </tr>\n",
       "  </tbody>\n",
       "</table>\n",
       "</div>"
      ],
      "text/plain": [
       "   Client ID  predicted_Loan_flag  probability_of_1            Likelihood\n",
       "0      10001                    0         99.988540  Very High Likelihood\n",
       "1      10002                    0         99.995851  Very High Likelihood\n",
       "2      10003                    0         99.848227  Very High Likelihood\n",
       "3      10004                    0         99.901085  Very High Likelihood\n",
       "4      10005                    0         99.988016  Very High Likelihood"
      ]
     },
     "execution_count": 89,
     "metadata": {},
     "output_type": "execute_result"
    }
   ],
   "source": [
    "#Preview of the predicted values\n",
    "likelihood_calculation.head()"
   ]
  },
  {
   "cell_type": "code",
   "execution_count": 90,
   "metadata": {},
   "outputs": [],
   "source": [
    "#Saving the predicted results\n",
    "likelihood_calculation.to_csv(\"Test_Sample/predicted_Loan_Flag_results.csv\", index = False)"
   ]
  }
 ],
 "metadata": {
  "kernelspec": {
   "display_name": "Python 3",
   "language": "python",
   "name": "python3"
  },
  "language_info": {
   "codemirror_mode": {
    "name": "ipython",
    "version": 3
   },
   "file_extension": ".py",
   "mimetype": "text/x-python",
   "name": "python",
   "nbconvert_exporter": "python",
   "pygments_lexer": "ipython3",
   "version": "3.6.5"
  }
 },
 "nbformat": 4,
 "nbformat_minor": 2
}

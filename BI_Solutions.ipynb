{
 "cells": [
  {
   "cell_type": "markdown",
   "metadata": {},
   "source": [
    "<h1>BI Question solutons are calculated in this notebook</h1>"
   ]
  },
  {
   "cell_type": "code",
   "execution_count": 1,
   "metadata": {},
   "outputs": [],
   "source": [
    "import pandas as pd\n",
    "import numpy as np\n",
    "import matplotlib as plt\n",
    "from io import StringIO\n",
    "import re"
   ]
  },
  {
   "cell_type": "code",
   "execution_count": 2,
   "metadata": {},
   "outputs": [],
   "source": [
    "#Reading the Merged Dataset that was created after data cleaning\n",
    "df = pd.read_csv(\"mergedData.csv\",encoding='latin1')"
   ]
  },
  {
   "cell_type": "code",
   "execution_count": 3,
   "metadata": {},
   "outputs": [
    {
     "data": {
      "text/html": [
       "<div>\n",
       "<style scoped>\n",
       "    .dataframe tbody tr th:only-of-type {\n",
       "        vertical-align: middle;\n",
       "    }\n",
       "\n",
       "    .dataframe tbody tr th {\n",
       "        vertical-align: top;\n",
       "    }\n",
       "\n",
       "    .dataframe thead th {\n",
       "        text-align: right;\n",
       "    }\n",
       "</style>\n",
       "<table border=\"1\" class=\"dataframe\">\n",
       "  <thead>\n",
       "    <tr style=\"text-align: right;\">\n",
       "      <th></th>\n",
       "      <th>Client ID</th>\n",
       "      <th>Age</th>\n",
       "      <th>Gender</th>\n",
       "      <th>County</th>\n",
       "      <th>Income Group</th>\n",
       "      <th>Average_CA_transaction_amount</th>\n",
       "      <th>No_of_products_held</th>\n",
       "      <th>Held Loan previously</th>\n",
       "      <th>Num Transactions</th>\n",
       "      <th>Last TXN Amount</th>\n",
       "      <th>Merchant Code</th>\n",
       "      <th>Last Transaction Narrative</th>\n",
       "      <th>Loan Flag</th>\n",
       "    </tr>\n",
       "  </thead>\n",
       "  <tbody>\n",
       "    <tr>\n",
       "      <th>0</th>\n",
       "      <td>1</td>\n",
       "      <td>36</td>\n",
       "      <td>1</td>\n",
       "      <td>cork</td>\n",
       "      <td>10001-40000</td>\n",
       "      <td>58</td>\n",
       "      <td>4</td>\n",
       "      <td>1</td>\n",
       "      <td>0.0</td>\n",
       "      <td>NaN</td>\n",
       "      <td>NaN</td>\n",
       "      <td>NaN</td>\n",
       "      <td>0</td>\n",
       "    </tr>\n",
       "    <tr>\n",
       "      <th>1</th>\n",
       "      <td>2</td>\n",
       "      <td>43</td>\n",
       "      <td>1</td>\n",
       "      <td>cavan</td>\n",
       "      <td>0-10000</td>\n",
       "      <td>2663</td>\n",
       "      <td>4</td>\n",
       "      <td>0</td>\n",
       "      <td>17.0</td>\n",
       "      <td>83.66</td>\n",
       "      <td>7211.0</td>\n",
       "      <td>THE BRIDGE LAUNDRY       WICKLOW TOWN</td>\n",
       "      <td>0</td>\n",
       "    </tr>\n",
       "    <tr>\n",
       "      <th>2</th>\n",
       "      <td>3</td>\n",
       "      <td>32</td>\n",
       "      <td>0</td>\n",
       "      <td>dublin</td>\n",
       "      <td>10001-40000</td>\n",
       "      <td>46</td>\n",
       "      <td>2</td>\n",
       "      <td>0</td>\n",
       "      <td>25.0</td>\n",
       "      <td>526.18</td>\n",
       "      <td>3667.0</td>\n",
       "      <td>LUXOR HOTEL/CASINO       LAS VEGAS    NV</td>\n",
       "      <td>0</td>\n",
       "    </tr>\n",
       "    <tr>\n",
       "      <th>3</th>\n",
       "      <td>4</td>\n",
       "      <td>52</td>\n",
       "      <td>1</td>\n",
       "      <td>louth</td>\n",
       "      <td>40001-60000</td>\n",
       "      <td>0</td>\n",
       "      <td>2</td>\n",
       "      <td>1</td>\n",
       "      <td>13.0</td>\n",
       "      <td>70.68</td>\n",
       "      <td>5712.0</td>\n",
       "      <td>HARVEY NORMAN            CARRICKMINES</td>\n",
       "      <td>0</td>\n",
       "    </tr>\n",
       "    <tr>\n",
       "      <th>4</th>\n",
       "      <td>5</td>\n",
       "      <td>63</td>\n",
       "      <td>0</td>\n",
       "      <td>kilkenny</td>\n",
       "      <td>60001-100000</td>\n",
       "      <td>126</td>\n",
       "      <td>1</td>\n",
       "      <td>0</td>\n",
       "      <td>39.0</td>\n",
       "      <td>259.07</td>\n",
       "      <td>5999.0</td>\n",
       "      <td>PAYPAL *PETEWOODWAR      35314369001</td>\n",
       "      <td>0</td>\n",
       "    </tr>\n",
       "  </tbody>\n",
       "</table>\n",
       "</div>"
      ],
      "text/plain": [
       "   Client ID  Age  Gender    County  Income Group  \\\n",
       "0          1   36       1      cork   10001-40000   \n",
       "1          2   43       1     cavan       0-10000   \n",
       "2          3   32       0    dublin   10001-40000   \n",
       "3          4   52       1     louth   40001-60000   \n",
       "4          5   63       0  kilkenny  60001-100000   \n",
       "\n",
       "   Average_CA_transaction_amount  No_of_products_held  Held Loan previously  \\\n",
       "0                             58                    4                     1   \n",
       "1                           2663                    4                     0   \n",
       "2                             46                    2                     0   \n",
       "3                              0                    2                     1   \n",
       "4                            126                    1                     0   \n",
       "\n",
       "   Num Transactions  Last TXN Amount  Merchant Code  \\\n",
       "0               0.0              NaN            NaN   \n",
       "1              17.0            83.66         7211.0   \n",
       "2              25.0           526.18         3667.0   \n",
       "3              13.0            70.68         5712.0   \n",
       "4              39.0           259.07         5999.0   \n",
       "\n",
       "                 Last Transaction Narrative  Loan Flag  \n",
       "0                                       NaN          0  \n",
       "1     THE BRIDGE LAUNDRY       WICKLOW TOWN          0  \n",
       "2  LUXOR HOTEL/CASINO       LAS VEGAS    NV          0  \n",
       "3     HARVEY NORMAN            CARRICKMINES          0  \n",
       "4      PAYPAL *PETEWOODWAR      35314369001          0  "
      ]
     },
     "execution_count": 3,
     "metadata": {},
     "output_type": "execute_result"
    }
   ],
   "source": [
    "df.head()"
   ]
  },
  {
   "cell_type": "code",
   "execution_count": 4,
   "metadata": {},
   "outputs": [],
   "source": [
    "#Taking only columns required to answer the Business Intellegence questions\n",
    "bi_df = df[[\"Client ID\",\"Age\" ,\"Gender\", \"Income Group\", \"Average_CA_transaction_amount\", \"No_of_products_held\",\"Held Loan previously\",\"Num Transactions\",\"Loan Flag\"]]"
   ]
  },
  {
   "cell_type": "code",
   "execution_count": 5,
   "metadata": {},
   "outputs": [
    {
     "data": {
      "text/html": [
       "<div>\n",
       "<style scoped>\n",
       "    .dataframe tbody tr th:only-of-type {\n",
       "        vertical-align: middle;\n",
       "    }\n",
       "\n",
       "    .dataframe tbody tr th {\n",
       "        vertical-align: top;\n",
       "    }\n",
       "\n",
       "    .dataframe thead th {\n",
       "        text-align: right;\n",
       "    }\n",
       "</style>\n",
       "<table border=\"1\" class=\"dataframe\">\n",
       "  <thead>\n",
       "    <tr style=\"text-align: right;\">\n",
       "      <th></th>\n",
       "      <th>Client ID</th>\n",
       "      <th>Age</th>\n",
       "      <th>Gender</th>\n",
       "      <th>Income Group</th>\n",
       "      <th>Average_CA_transaction_amount</th>\n",
       "      <th>No_of_products_held</th>\n",
       "      <th>Held Loan previously</th>\n",
       "      <th>Num Transactions</th>\n",
       "      <th>Loan Flag</th>\n",
       "    </tr>\n",
       "  </thead>\n",
       "  <tbody>\n",
       "    <tr>\n",
       "      <th>0</th>\n",
       "      <td>1</td>\n",
       "      <td>36</td>\n",
       "      <td>1</td>\n",
       "      <td>10001-40000</td>\n",
       "      <td>58</td>\n",
       "      <td>4</td>\n",
       "      <td>1</td>\n",
       "      <td>0.0</td>\n",
       "      <td>0</td>\n",
       "    </tr>\n",
       "    <tr>\n",
       "      <th>1</th>\n",
       "      <td>2</td>\n",
       "      <td>43</td>\n",
       "      <td>1</td>\n",
       "      <td>0-10000</td>\n",
       "      <td>2663</td>\n",
       "      <td>4</td>\n",
       "      <td>0</td>\n",
       "      <td>17.0</td>\n",
       "      <td>0</td>\n",
       "    </tr>\n",
       "    <tr>\n",
       "      <th>2</th>\n",
       "      <td>3</td>\n",
       "      <td>32</td>\n",
       "      <td>0</td>\n",
       "      <td>10001-40000</td>\n",
       "      <td>46</td>\n",
       "      <td>2</td>\n",
       "      <td>0</td>\n",
       "      <td>25.0</td>\n",
       "      <td>0</td>\n",
       "    </tr>\n",
       "    <tr>\n",
       "      <th>3</th>\n",
       "      <td>4</td>\n",
       "      <td>52</td>\n",
       "      <td>1</td>\n",
       "      <td>40001-60000</td>\n",
       "      <td>0</td>\n",
       "      <td>2</td>\n",
       "      <td>1</td>\n",
       "      <td>13.0</td>\n",
       "      <td>0</td>\n",
       "    </tr>\n",
       "    <tr>\n",
       "      <th>4</th>\n",
       "      <td>5</td>\n",
       "      <td>63</td>\n",
       "      <td>0</td>\n",
       "      <td>60001-100000</td>\n",
       "      <td>126</td>\n",
       "      <td>1</td>\n",
       "      <td>0</td>\n",
       "      <td>39.0</td>\n",
       "      <td>0</td>\n",
       "    </tr>\n",
       "  </tbody>\n",
       "</table>\n",
       "</div>"
      ],
      "text/plain": [
       "   Client ID  Age  Gender  Income Group  Average_CA_transaction_amount  \\\n",
       "0          1   36       1   10001-40000                             58   \n",
       "1          2   43       1       0-10000                           2663   \n",
       "2          3   32       0   10001-40000                             46   \n",
       "3          4   52       1   40001-60000                              0   \n",
       "4          5   63       0  60001-100000                            126   \n",
       "\n",
       "   No_of_products_held  Held Loan previously  Num Transactions  Loan Flag  \n",
       "0                    4                     1               0.0          0  \n",
       "1                    4                     0              17.0          0  \n",
       "2                    2                     0              25.0          0  \n",
       "3                    2                     1              13.0          0  \n",
       "4                    1                     0              39.0          0  "
      ]
     },
     "execution_count": 5,
     "metadata": {},
     "output_type": "execute_result"
    }
   ],
   "source": [
    "bi_df.head()"
   ]
  },
  {
   "cell_type": "code",
   "execution_count": 6,
   "metadata": {},
   "outputs": [
    {
     "data": {
      "text/html": [
       "<div>\n",
       "<style scoped>\n",
       "    .dataframe tbody tr th:only-of-type {\n",
       "        vertical-align: middle;\n",
       "    }\n",
       "\n",
       "    .dataframe tbody tr th {\n",
       "        vertical-align: top;\n",
       "    }\n",
       "\n",
       "    .dataframe thead th {\n",
       "        text-align: right;\n",
       "    }\n",
       "</style>\n",
       "<table border=\"1\" class=\"dataframe\">\n",
       "  <thead>\n",
       "    <tr style=\"text-align: right;\">\n",
       "      <th></th>\n",
       "      <th>Client ID</th>\n",
       "      <th>Age</th>\n",
       "      <th>Gender</th>\n",
       "      <th>Average_CA_transaction_amount</th>\n",
       "      <th>No_of_products_held</th>\n",
       "      <th>Held Loan previously</th>\n",
       "      <th>Num Transactions</th>\n",
       "      <th>Loan Flag</th>\n",
       "    </tr>\n",
       "  </thead>\n",
       "  <tbody>\n",
       "    <tr>\n",
       "      <th>count</th>\n",
       "      <td>10000.00000</td>\n",
       "      <td>10000.000000</td>\n",
       "      <td>10000.000000</td>\n",
       "      <td>10000.000000</td>\n",
       "      <td>10000.000000</td>\n",
       "      <td>10000.000000</td>\n",
       "      <td>10000.000000</td>\n",
       "      <td>10000.000000</td>\n",
       "    </tr>\n",
       "    <tr>\n",
       "      <th>mean</th>\n",
       "      <td>5000.50000</td>\n",
       "      <td>44.347000</td>\n",
       "      <td>0.509000</td>\n",
       "      <td>444.829200</td>\n",
       "      <td>3.002700</td>\n",
       "      <td>0.249800</td>\n",
       "      <td>18.292900</td>\n",
       "      <td>0.021100</td>\n",
       "    </tr>\n",
       "    <tr>\n",
       "      <th>std</th>\n",
       "      <td>2886.89568</td>\n",
       "      <td>14.849857</td>\n",
       "      <td>0.499944</td>\n",
       "      <td>877.434779</td>\n",
       "      <td>1.410068</td>\n",
       "      <td>0.432919</td>\n",
       "      <td>22.962819</td>\n",
       "      <td>0.143725</td>\n",
       "    </tr>\n",
       "    <tr>\n",
       "      <th>min</th>\n",
       "      <td>1.00000</td>\n",
       "      <td>20.000000</td>\n",
       "      <td>0.000000</td>\n",
       "      <td>0.000000</td>\n",
       "      <td>0.000000</td>\n",
       "      <td>0.000000</td>\n",
       "      <td>0.000000</td>\n",
       "      <td>0.000000</td>\n",
       "    </tr>\n",
       "    <tr>\n",
       "      <th>25%</th>\n",
       "      <td>2500.75000</td>\n",
       "      <td>32.000000</td>\n",
       "      <td>0.000000</td>\n",
       "      <td>0.000000</td>\n",
       "      <td>2.000000</td>\n",
       "      <td>0.000000</td>\n",
       "      <td>0.000000</td>\n",
       "      <td>0.000000</td>\n",
       "    </tr>\n",
       "    <tr>\n",
       "      <th>50%</th>\n",
       "      <td>5000.50000</td>\n",
       "      <td>44.000000</td>\n",
       "      <td>1.000000</td>\n",
       "      <td>30.000000</td>\n",
       "      <td>3.000000</td>\n",
       "      <td>0.000000</td>\n",
       "      <td>10.000000</td>\n",
       "      <td>0.000000</td>\n",
       "    </tr>\n",
       "    <tr>\n",
       "      <th>75%</th>\n",
       "      <td>7500.25000</td>\n",
       "      <td>57.000000</td>\n",
       "      <td>1.000000</td>\n",
       "      <td>402.000000</td>\n",
       "      <td>4.000000</td>\n",
       "      <td>0.000000</td>\n",
       "      <td>30.000000</td>\n",
       "      <td>0.000000</td>\n",
       "    </tr>\n",
       "    <tr>\n",
       "      <th>max</th>\n",
       "      <td>10000.00000</td>\n",
       "      <td>100.000000</td>\n",
       "      <td>1.000000</td>\n",
       "      <td>9470.000000</td>\n",
       "      <td>5.000000</td>\n",
       "      <td>1.000000</td>\n",
       "      <td>100.000000</td>\n",
       "      <td>1.000000</td>\n",
       "    </tr>\n",
       "  </tbody>\n",
       "</table>\n",
       "</div>"
      ],
      "text/plain": [
       "         Client ID           Age        Gender  Average_CA_transaction_amount  \\\n",
       "count  10000.00000  10000.000000  10000.000000                   10000.000000   \n",
       "mean    5000.50000     44.347000      0.509000                     444.829200   \n",
       "std     2886.89568     14.849857      0.499944                     877.434779   \n",
       "min        1.00000     20.000000      0.000000                       0.000000   \n",
       "25%     2500.75000     32.000000      0.000000                       0.000000   \n",
       "50%     5000.50000     44.000000      1.000000                      30.000000   \n",
       "75%     7500.25000     57.000000      1.000000                     402.000000   \n",
       "max    10000.00000    100.000000      1.000000                    9470.000000   \n",
       "\n",
       "       No_of_products_held  Held Loan previously  Num Transactions  \\\n",
       "count         10000.000000          10000.000000      10000.000000   \n",
       "mean              3.002700              0.249800         18.292900   \n",
       "std               1.410068              0.432919         22.962819   \n",
       "min               0.000000              0.000000          0.000000   \n",
       "25%               2.000000              0.000000          0.000000   \n",
       "50%               3.000000              0.000000         10.000000   \n",
       "75%               4.000000              0.000000         30.000000   \n",
       "max               5.000000              1.000000        100.000000   \n",
       "\n",
       "          Loan Flag  \n",
       "count  10000.000000  \n",
       "mean       0.021100  \n",
       "std        0.143725  \n",
       "min        0.000000  \n",
       "25%        0.000000  \n",
       "50%        0.000000  \n",
       "75%        0.000000  \n",
       "max        1.000000  "
      ]
     },
     "execution_count": 6,
     "metadata": {},
     "output_type": "execute_result"
    }
   ],
   "source": [
    "#Checking the basic statistics of the columns\n",
    "bi_df.describe()"
   ]
  },
  {
   "cell_type": "code",
   "execution_count": 7,
   "metadata": {},
   "outputs": [
    {
     "data": {
      "text/plain": [
       "Client ID                          int64\n",
       "Age                                int64\n",
       "Gender                             int64\n",
       "Income Group                      object\n",
       "Average_CA_transaction_amount      int64\n",
       "No_of_products_held                int64\n",
       "Held Loan previously               int64\n",
       "Num Transactions                 float64\n",
       "Loan Flag                          int64\n",
       "dtype: object"
      ]
     },
     "execution_count": 7,
     "metadata": {},
     "output_type": "execute_result"
    }
   ],
   "source": [
    "bi_df.dtypes"
   ]
  },
  {
   "cell_type": "code",
   "execution_count": 8,
   "metadata": {},
   "outputs": [
    {
     "data": {
      "text/plain": [
       "Client ID                        0\n",
       "Age                              0\n",
       "Gender                           0\n",
       "Income Group                     0\n",
       "Average_CA_transaction_amount    0\n",
       "No_of_products_held              0\n",
       "Held Loan previously             0\n",
       "Num Transactions                 0\n",
       "Loan Flag                        0\n",
       "dtype: int64"
      ]
     },
     "execution_count": 8,
     "metadata": {},
     "output_type": "execute_result"
    }
   ],
   "source": [
    "#Checking for null values\n",
    "bi_df.isnull().sum()"
   ]
  },
  {
   "cell_type": "code",
   "execution_count": 9,
   "metadata": {},
   "outputs": [
    {
     "data": {
      "text/plain": [
       "3816"
      ]
     },
     "execution_count": 9,
     "metadata": {},
     "output_type": "execute_result"
    }
   ],
   "source": [
    "#Checking for number of clients in the dataset above age 50 are as follows:\n",
    "bi_df[bi_df.Age>50][\"Client ID\"].count()"
   ]
  },
  {
   "cell_type": "markdown",
   "metadata": {},
   "source": [
    "<h2>Business Intelligence Questions and Answers</h2>"
   ]
  },
  {
   "cell_type": "markdown",
   "metadata": {},
   "source": [
    "<h3>Question 1: How Many Customers above 50 years old have taken up a loan?</h3>"
   ]
  },
  {
   "cell_type": "code",
   "execution_count": 10,
   "metadata": {},
   "outputs": [
    {
     "data": {
      "text/plain": [
       "98"
      ]
     },
     "execution_count": 10,
     "metadata": {},
     "output_type": "execute_result"
    }
   ],
   "source": [
    "#Filtering age and Loan flag together with count\n",
    "(bi_df[bi_df.Age>50][\"Loan Flag\"] == 1).astype(int).sum(axis = 0)"
   ]
  },
  {
   "cell_type": "code",
   "execution_count": 11,
   "metadata": {},
   "outputs": [
    {
     "data": {
      "text/plain": [
       "3718"
      ]
     },
     "execution_count": 11,
     "metadata": {},
     "output_type": "execute_result"
    }
   ],
   "source": [
    "(bi_df[bi_df.Age>50][\"Loan Flag\"] == 0).astype(int).sum(axis = 0)"
   ]
  },
  {
   "cell_type": "markdown",
   "metadata": {},
   "source": [
    "<h3> Solution: 98 clinets have taken up loan that were above 50 years of Age</h3>"
   ]
  },
  {
   "cell_type": "markdown",
   "metadata": {},
   "source": [
    "<h3>Question 2: How Many Females aged 30 to 40 have more than 2 products?</h3>"
   ]
  },
  {
   "cell_type": "code",
   "execution_count": 12,
   "metadata": {},
   "outputs": [
    {
     "data": {
      "text/html": [
       "<div>\n",
       "<style scoped>\n",
       "    .dataframe tbody tr th:only-of-type {\n",
       "        vertical-align: middle;\n",
       "    }\n",
       "\n",
       "    .dataframe tbody tr th {\n",
       "        vertical-align: top;\n",
       "    }\n",
       "\n",
       "    .dataframe thead th {\n",
       "        text-align: right;\n",
       "    }\n",
       "</style>\n",
       "<table border=\"1\" class=\"dataframe\">\n",
       "  <thead>\n",
       "    <tr style=\"text-align: right;\">\n",
       "      <th></th>\n",
       "      <th>Client ID</th>\n",
       "      <th>Age</th>\n",
       "      <th>Gender</th>\n",
       "      <th>Income Group</th>\n",
       "      <th>Average_CA_transaction_amount</th>\n",
       "      <th>No_of_products_held</th>\n",
       "      <th>Held Loan previously</th>\n",
       "      <th>Num Transactions</th>\n",
       "      <th>Loan Flag</th>\n",
       "    </tr>\n",
       "  </thead>\n",
       "  <tbody>\n",
       "    <tr>\n",
       "      <th>14</th>\n",
       "      <td>15</td>\n",
       "      <td>37</td>\n",
       "      <td>0</td>\n",
       "      <td>10001-40000</td>\n",
       "      <td>72</td>\n",
       "      <td>5</td>\n",
       "      <td>0</td>\n",
       "      <td>0.0</td>\n",
       "      <td>0</td>\n",
       "    </tr>\n",
       "    <tr>\n",
       "      <th>33</th>\n",
       "      <td>34</td>\n",
       "      <td>32</td>\n",
       "      <td>0</td>\n",
       "      <td>60001-100000</td>\n",
       "      <td>9470</td>\n",
       "      <td>4</td>\n",
       "      <td>0</td>\n",
       "      <td>0.0</td>\n",
       "      <td>0</td>\n",
       "    </tr>\n",
       "    <tr>\n",
       "      <th>62</th>\n",
       "      <td>63</td>\n",
       "      <td>31</td>\n",
       "      <td>0</td>\n",
       "      <td>0-10000</td>\n",
       "      <td>0</td>\n",
       "      <td>4</td>\n",
       "      <td>0</td>\n",
       "      <td>40.0</td>\n",
       "      <td>0</td>\n",
       "    </tr>\n",
       "    <tr>\n",
       "      <th>71</th>\n",
       "      <td>72</td>\n",
       "      <td>32</td>\n",
       "      <td>0</td>\n",
       "      <td>40001-60000</td>\n",
       "      <td>0</td>\n",
       "      <td>4</td>\n",
       "      <td>1</td>\n",
       "      <td>0.0</td>\n",
       "      <td>0</td>\n",
       "    </tr>\n",
       "    <tr>\n",
       "      <th>77</th>\n",
       "      <td>78</td>\n",
       "      <td>36</td>\n",
       "      <td>0</td>\n",
       "      <td>60001-100000</td>\n",
       "      <td>0</td>\n",
       "      <td>5</td>\n",
       "      <td>1</td>\n",
       "      <td>64.0</td>\n",
       "      <td>0</td>\n",
       "    </tr>\n",
       "  </tbody>\n",
       "</table>\n",
       "</div>"
      ],
      "text/plain": [
       "    Client ID  Age  Gender  Income Group  Average_CA_transaction_amount  \\\n",
       "14         15   37       0   10001-40000                             72   \n",
       "33         34   32       0  60001-100000                           9470   \n",
       "62         63   31       0       0-10000                              0   \n",
       "71         72   32       0   40001-60000                              0   \n",
       "77         78   36       0  60001-100000                              0   \n",
       "\n",
       "    No_of_products_held  Held Loan previously  Num Transactions  Loan Flag  \n",
       "14                    5                     0               0.0          0  \n",
       "33                    4                     0               0.0          0  \n",
       "62                    4                     0              40.0          0  \n",
       "71                    4                     1               0.0          0  \n",
       "77                    5                     1              64.0          0  "
      ]
     },
     "execution_count": 12,
     "metadata": {},
     "output_type": "execute_result"
    }
   ],
   "source": [
    "#Filtered dataset for females between age 30 - 40 that have more than 2 products\n",
    "bi_df[(bi_df[\"Gender\"] == 0) & (bi_df['Age'].between(30, 40, inclusive=False)) & (bi_df['No_of_products_held'] >2)].head()"
   ]
  },
  {
   "cell_type": "code",
   "execution_count": 13,
   "metadata": {},
   "outputs": [
    {
     "data": {
      "text/plain": [
       "513"
      ]
     },
     "execution_count": 13,
     "metadata": {},
     "output_type": "execute_result"
    }
   ],
   "source": [
    "#Count of females between age 30 - 40 that have more than 2 products\n",
    "bi_df[(bi_df[\"Gender\"] == 0) & (bi_df['Age'].between(30, 40, inclusive=False)) & (bi_df['No_of_products_held'] >2)][\"No_of_products_held\"].count()"
   ]
  },
  {
   "cell_type": "markdown",
   "metadata": {},
   "source": [
    "<h3> Solution: 513 female clients aged between 30 - 40 years old have more than 2 (non inclusive) that were above 50</h3>"
   ]
  },
  {
   "cell_type": "markdown",
   "metadata": {},
   "source": [
    "<h3>Question 3: What is the average number of Current Account(CA) Transactions for males who had a previous Loans?</h3>"
   ]
  },
  {
   "cell_type": "code",
   "execution_count": 14,
   "metadata": {},
   "outputs": [
    {
     "data": {
      "text/plain": [
       "18.646869983948637"
      ]
     },
     "execution_count": 14,
     "metadata": {},
     "output_type": "execute_result"
    }
   ],
   "source": [
    "#Avg num of CA Transactions for males who had previous loans\n",
    "bi_df[(bi_df[\"Gender\"] == 1) & (bi_df[\"Held Loan previously\"] == 1)][\"Num Transactions\"].mean()"
   ]
  },
  {
   "cell_type": "markdown",
   "metadata": {},
   "source": [
    "<h3> Solution: 19 is the average number of CA transactions for males who has previous loans</h3>"
   ]
  },
  {
   "cell_type": "markdown",
   "metadata": {},
   "source": [
    "<h3>Question 4: How many females did not have a previous loans and who are aged </h3>\n",
    "   <h4> Less than 20</h4>\n",
    "    <h4>21 to 40 </h4>\n",
    "    <h4>40+ </h4>\n"
   ]
  },
  {
   "cell_type": "code",
   "execution_count": 15,
   "metadata": {},
   "outputs": [
    {
     "data": {
      "text/plain": [
       "119"
      ]
     },
     "execution_count": 15,
     "metadata": {},
     "output_type": "execute_result"
    }
   ],
   "source": [
    "#females with age les than 20 (inclusive of 20)\n",
    "bi_df[(bi_df[\"Gender\"] == 0) & (bi_df[\"Held Loan previously\"] == 0) & (bi_df[\"Age\"] <=20)][\"Client ID\"].count()"
   ]
  },
  {
   "cell_type": "code",
   "execution_count": 16,
   "metadata": {},
   "outputs": [
    {
     "data": {
      "text/plain": [
       "1535"
      ]
     },
     "execution_count": 16,
     "metadata": {},
     "output_type": "execute_result"
    }
   ],
   "source": [
    "#females with age between 21 and 40 ( both inclusive)\n",
    "bi_df[(bi_df[\"Gender\"] == 0) & (bi_df[\"Held Loan previously\"] == 0) & (bi_df['Age'].between(21, 40, inclusive=True))][\"Client ID\"].count()"
   ]
  },
  {
   "cell_type": "code",
   "execution_count": 17,
   "metadata": {},
   "outputs": [
    {
     "data": {
      "text/plain": [
       "2004"
      ]
     },
     "execution_count": 17,
     "metadata": {},
     "output_type": "execute_result"
    }
   ],
   "source": [
    "#females with age above 40 years old (excluding 40)\n",
    "bi_df[(bi_df[\"Gender\"] == 0) & (bi_df[\"Held Loan previously\"] == 0) & (bi_df[\"Age\"] >40)][\"Client ID\"].count()"
   ]
  },
  {
   "cell_type": "markdown",
   "metadata": {},
   "source": [
    "<h3> Assumptions:</h3>\n",
    "    <h4>Converted negetive values in the number of products held column to postive</h4>\n",
    "    <h4>Set 100 years as limit to the Age column</h4>"
   ]
  }
 ],
 "metadata": {
  "kernelspec": {
   "display_name": "Python 3",
   "language": "python",
   "name": "python3"
  },
  "language_info": {
   "codemirror_mode": {
    "name": "ipython",
    "version": 3
   },
   "file_extension": ".py",
   "mimetype": "text/x-python",
   "name": "python",
   "nbconvert_exporter": "python",
   "pygments_lexer": "ipython3",
   "version": "3.6.5"
  }
 },
 "nbformat": 4,
 "nbformat_minor": 2
}
